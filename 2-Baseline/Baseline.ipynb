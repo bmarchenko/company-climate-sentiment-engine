{
 "cells": [
  {
   "cell_type": "code",
   "execution_count": 54,
   "metadata": {},
   "outputs": [
    {
     "name": "stderr",
     "output_type": "stream",
     "text": [
      "/Users/bmarchenko/projects/prj-nlp/env/lib/python3.6/site-packages/bs4/__init__.py:181: UserWarning: No parser was explicitly specified, so I'm using the best available HTML parser for this system (\"lxml\"). This usually isn't a problem, but if you run this code on another system, or in a different virtual environment, it may use a different parser and behave differently.\n",
      "\n",
      "The code that caused this warning is on line 193 of the file /usr/local/Cellar/python/3.6.4_4/Frameworks/Python.framework/Versions/3.6/lib/python3.6/runpy.py. To get rid of this warning, change code that looks like this:\n",
      "\n",
      " BeautifulSoup(YOUR_MARKUP})\n",
      "\n",
      "to this:\n",
      "\n",
      " BeautifulSoup(YOUR_MARKUP, \"lxml\")\n",
      "\n",
      "  markup_type=markup_type))\n"
     ]
    }
   ],
   "source": [
    "import pandas as pd\n",
    "import re\n",
    "import spacy\n",
    "from collections import Counter\n",
    "from bs4 import BeautifulSoup\n",
    "from boilerpipe.extract import Extractor\n",
    "from sklearn.metrics import classification_report\n",
    "from nltk.corpus import stopwords\n",
    "import pandas as pd\n",
    "from sklearn.feature_extraction.text import TfidfVectorizer\n",
    "from sklearn.feature_extraction import DictVectorizer\n",
    "from sklearn.model_selection import train_test_split\n",
    "from sklearn.naive_bayes import GaussianNB, MultinomialNB\n",
    "from nltk.corpus import stopwords\n",
    "stop = set(stopwords.words())\n",
    "ANNOTATION_RESULTS = \"../1-Data/3-annotation/output.csv\"\n",
    "df = pd.read_csv(ANNOTATION_RESULTS)\n",
    "nlp = spacy.load('en_core_web_sm')\n",
    "\n",
    "def cleanMe(html):\n",
    "    soup = BeautifulSoup(html) # create a new bs4 object from the html data loaded\n",
    "    for script in soup([\"script\", \"style\"]): # remove all javascript and stylesheet code\n",
    "        script.extract()\n",
    "    # get text\n",
    "    text = soup.get_text()\n",
    "    # break into lines and remove leading and trailing space on each\n",
    "    lines = (line.strip() for line in text.splitlines())\n",
    "    # break multi-headlines into a line each\n",
    "    chunks = (phrase.strip() for line in lines for phrase in line.split(\"  \"))\n",
    "    # drop blank lines\n",
    "    text = '\\n'.join(chunk for chunk in chunks if chunk)\n",
    "    return text\n",
    "df['text'] = df.apply(lambda row: \"{} {}\".format(row['title'], cleanMe(row['full_text'])), axis=1)"
   ]
  },
  {
   "cell_type": "markdown",
   "metadata": {},
   "source": [
    "## Company Confidence Baseline:"
   ]
  },
  {
   "cell_type": "code",
   "execution_count": 55,
   "metadata": {},
   "outputs": [
    {
     "data": {
      "text/plain": [
       "2    0.576271\n",
       "1    0.271186\n",
       "0    0.152542\n",
       "Name: Answer.CompanyConfidence, dtype: float64"
      ]
     },
     "execution_count": 55,
     "metadata": {},
     "output_type": "execute_result"
    }
   ],
   "source": [
    "COMPANY_NAMES_STOP_WORDS = r\"PLC|Corp|Corporation|—$\"\n",
    "df['Answer.CompanyConfidence'].value_counts(normalize=True)"
   ]
  },
  {
   "cell_type": "markdown",
   "metadata": {},
   "source": [
    "The baseline is built on frequency of mentions of the company, comparing to other organizations:  \n",
    "2 - Very Confident that the text is about this company. Itі mention fraction => 10% and at least 2 mentions.  \n",
    "1 - Moderate. It is mentioned but not the fraction < 10%.  \n",
    "0 - Not related to the company. The company is not mentioned in text.  "
   ]
  },
  {
   "cell_type": "code",
   "execution_count": 56,
   "metadata": {},
   "outputs": [],
   "source": [
    "company_confidence = []\n",
    "company_fraction = []\n",
    "\n",
    "for num, row in df.iterrows():\n",
    "    company = re.sub(COMPANY_NAMES_STOP_WORDS, '', row['company'], flags=re.IGNORECASE).lower()\n",
    "    #Company is often mentioned by part of it's name. e.g. \"Royal Dutch Shell\" -> \"Shell\"\n",
    "    company_names = set([company] + company.split())\n",
    "    text = row['text']\n",
    "    doc = nlp(text)\n",
    "    orgs = [re.sub(COMPANY_NAMES_STOP_WORDS, '', ent.text, flags=re.IGNORECASE).strip().lower() for ent in doc.ents if ent.label_ == \"ORG\"]\n",
    "    orgs_counter = Counter(orgs)\n",
    "    occurences_company = sum([orgs_counter.get(name, 0) for name in company_names])\n",
    "    occurences_total = sum(orgs_counter.values())\n",
    "    if occurences_total == 0:\n",
    "        fraction = 0\n",
    "    else:\n",
    "        fraction = occurences_company/occurences_total\n",
    "    company_fraction.append(fraction)\n",
    "    if occurences_company == 0:\n",
    "        company_confidence.append(0)\n",
    "    elif fraction > 0.1 and occurences_company > 1:\n",
    "        company_confidence.append(2)\n",
    "    else:\n",
    "        company_confidence.append(1)\n",
    "\n",
    "            \n",
    "df['company_confidence_estimation'] = company_confidence\n",
    "df['company_fraction'] = company_fraction"
   ]
  },
  {
   "cell_type": "code",
   "execution_count": 57,
   "metadata": {},
   "outputs": [
    {
     "name": "stdout",
     "output_type": "stream",
     "text": [
      "             precision    recall  f1-score   support\n",
      "\n",
      "          0       0.88      0.78      0.82         9\n",
      "          1       0.88      0.88      0.88        16\n",
      "          2       0.97      1.00      0.99        34\n",
      "\n",
      "avg / total       0.93      0.93      0.93        59\n",
      "\n"
     ]
    }
   ],
   "source": [
    "print(classification_report(df['Answer.CompanyConfidence'], df['company_confidence_estimation'], target_names=('0', '1', '2')))"
   ]
  },
  {
   "cell_type": "markdown",
   "metadata": {},
   "source": [
    "Highlight wrong values:"
   ]
  },
  {
   "cell_type": "code",
   "execution_count": 58,
   "metadata": {},
   "outputs": [
    {
     "data": {
      "text/html": [
       "<style  type=\"text/css\" >\n",
       "    #T_9e91f69a_52e3_11e8_a3ea_32001b4fe000row9_col1 {\n",
       "            background-color:  red;\n",
       "        }    #T_9e91f69a_52e3_11e8_a3ea_32001b4fe000row9_col2 {\n",
       "            background-color:  red;\n",
       "        }    #T_9e91f69a_52e3_11e8_a3ea_32001b4fe000row17_col1 {\n",
       "            background-color:  red;\n",
       "        }    #T_9e91f69a_52e3_11e8_a3ea_32001b4fe000row19_col1 {\n",
       "            background-color:  red;\n",
       "        }    #T_9e91f69a_52e3_11e8_a3ea_32001b4fe000row22_col1 {\n",
       "            background-color:  red;\n",
       "        }</style>  \n",
       "<table id=\"T_9e91f69a_52e3_11e8_a3ea_32001b4fe000\" > \n",
       "<thead>    <tr> \n",
       "        <th class=\"blank level0\" ></th> \n",
       "        <th class=\"col_heading level0 col0\" >Answer.CompanyConfidence</th> \n",
       "        <th class=\"col_heading level0 col1\" >company_confidence_estimation</th> \n",
       "        <th class=\"col_heading level0 col2\" >company_fraction</th> \n",
       "    </tr>    <tr> \n",
       "        <th class=\"index_name level0\" >url</th> \n",
       "        <th class=\"blank\" ></th> \n",
       "        <th class=\"blank\" ></th> \n",
       "        <th class=\"blank\" ></th> \n",
       "    </tr></thead> \n",
       "<tbody>    <tr> \n",
       "        <th id=\"T_9e91f69a_52e3_11e8_a3ea_32001b4fe000level0_row0\" class=\"row_heading level0 row0\" >http://blogs.edf.org/energyexchange/2017/08/25/heres-how-chevrons-next-ceo-can-turn-over-a-new-leaf/</th> \n",
       "        <td id=\"T_9e91f69a_52e3_11e8_a3ea_32001b4fe000row0_col0\" class=\"data row0 col0\" >2</td> \n",
       "        <td id=\"T_9e91f69a_52e3_11e8_a3ea_32001b4fe000row0_col1\" class=\"data row0 col1\" >2</td> \n",
       "        <td id=\"T_9e91f69a_52e3_11e8_a3ea_32001b4fe000row0_col2\" class=\"data row0 col2\" >0.5</td> \n",
       "    </tr>    <tr> \n",
       "        <th id=\"T_9e91f69a_52e3_11e8_a3ea_32001b4fe000level0_row1\" class=\"row_heading level0 row1\" >http://climatecasechart.com/case/people-state-california-v-bp-plc-oakland/</th> \n",
       "        <td id=\"T_9e91f69a_52e3_11e8_a3ea_32001b4fe000row1_col0\" class=\"data row1 col0\" >2</td> \n",
       "        <td id=\"T_9e91f69a_52e3_11e8_a3ea_32001b4fe000row1_col1\" class=\"data row1 col1\" >2</td> \n",
       "        <td id=\"T_9e91f69a_52e3_11e8_a3ea_32001b4fe000row1_col2\" class=\"data row1 col2\" >0.108911</td> \n",
       "    </tr>    <tr> \n",
       "        <th id=\"T_9e91f69a_52e3_11e8_a3ea_32001b4fe000level0_row2\" class=\"row_heading level0 row2\" >http://fortune.com/2016/05/24/exxonmobil-chevron-shareholder-meetings-climate/</th> \n",
       "        <td id=\"T_9e91f69a_52e3_11e8_a3ea_32001b4fe000row2_col0\" class=\"data row2 col0\" >2</td> \n",
       "        <td id=\"T_9e91f69a_52e3_11e8_a3ea_32001b4fe000row2_col1\" class=\"data row2 col1\" >2</td> \n",
       "        <td id=\"T_9e91f69a_52e3_11e8_a3ea_32001b4fe000row2_col2\" class=\"data row2 col2\" >0.151515</td> \n",
       "    </tr>    <tr> \n",
       "        <th id=\"T_9e91f69a_52e3_11e8_a3ea_32001b4fe000level0_row3\" class=\"row_heading level0 row3\" >http://reports.shell.com/annual-report/2017/strategic-report/climate-change-and-energy-transition/risks-and-opportunities.php</th> \n",
       "        <td id=\"T_9e91f69a_52e3_11e8_a3ea_32001b4fe000row3_col0\" class=\"data row3 col0\" >2</td> \n",
       "        <td id=\"T_9e91f69a_52e3_11e8_a3ea_32001b4fe000row3_col1\" class=\"data row3 col1\" >2</td> \n",
       "        <td id=\"T_9e91f69a_52e3_11e8_a3ea_32001b4fe000row3_col2\" class=\"data row3 col2\" >0.352273</td> \n",
       "    </tr>    <tr> \n",
       "        <th id=\"T_9e91f69a_52e3_11e8_a3ea_32001b4fe000level0_row4\" class=\"row_heading level0 row4\" >http://reports.weforum.org/global-strategic-foresight/katell-le-goulven-unicef-agile-development/</th> \n",
       "        <td id=\"T_9e91f69a_52e3_11e8_a3ea_32001b4fe000row4_col0\" class=\"data row4 col0\" >0</td> \n",
       "        <td id=\"T_9e91f69a_52e3_11e8_a3ea_32001b4fe000row4_col1\" class=\"data row4 col1\" >0</td> \n",
       "        <td id=\"T_9e91f69a_52e3_11e8_a3ea_32001b4fe000row4_col2\" class=\"data row4 col2\" >0</td> \n",
       "    </tr>    <tr> \n",
       "        <th id=\"T_9e91f69a_52e3_11e8_a3ea_32001b4fe000level0_row5\" class=\"row_heading level0 row5\" >http://waterfootprint.org/en/about-us/news/news/coke-nike-call-climate-change-commercial-threat/</th> \n",
       "        <td id=\"T_9e91f69a_52e3_11e8_a3ea_32001b4fe000row5_col0\" class=\"data row5 col0\" >1</td> \n",
       "        <td id=\"T_9e91f69a_52e3_11e8_a3ea_32001b4fe000row5_col1\" class=\"data row5 col1\" >1</td> \n",
       "        <td id=\"T_9e91f69a_52e3_11e8_a3ea_32001b4fe000row5_col2\" class=\"data row5 col2\" >0.04</td> \n",
       "    </tr>    <tr> \n",
       "        <th id=\"T_9e91f69a_52e3_11e8_a3ea_32001b4fe000level0_row6\" class=\"row_heading level0 row6\" >http://www.bdlaw.com/news-2211.html</th> \n",
       "        <td id=\"T_9e91f69a_52e3_11e8_a3ea_32001b4fe000row6_col0\" class=\"data row6 col0\" >2</td> \n",
       "        <td id=\"T_9e91f69a_52e3_11e8_a3ea_32001b4fe000row6_col1\" class=\"data row6 col1\" >2</td> \n",
       "        <td id=\"T_9e91f69a_52e3_11e8_a3ea_32001b4fe000row6_col2\" class=\"data row6 col2\" >0.117647</td> \n",
       "    </tr>    <tr> \n",
       "        <th id=\"T_9e91f69a_52e3_11e8_a3ea_32001b4fe000level0_row7\" class=\"row_heading level0 row7\" >http://www.chicagotribune.com/business/sns-bc-us--california-climate-change-lawsuits-20180321-story.html</th> \n",
       "        <td id=\"T_9e91f69a_52e3_11e8_a3ea_32001b4fe000row7_col0\" class=\"data row7 col0\" >2</td> \n",
       "        <td id=\"T_9e91f69a_52e3_11e8_a3ea_32001b4fe000row7_col1\" class=\"data row7 col1\" >2</td> \n",
       "        <td id=\"T_9e91f69a_52e3_11e8_a3ea_32001b4fe000row7_col2\" class=\"data row7 col2\" >0.272727</td> \n",
       "    </tr>    <tr> \n",
       "        <th id=\"T_9e91f69a_52e3_11e8_a3ea_32001b4fe000level0_row8\" class=\"row_heading level0 row8\" >http://www.climateactionprogramme.org/climate-leader-interviews/interview-with-ursula-mathar-vp-bmw-group</th> \n",
       "        <td id=\"T_9e91f69a_52e3_11e8_a3ea_32001b4fe000row8_col0\" class=\"data row8 col0\" >2</td> \n",
       "        <td id=\"T_9e91f69a_52e3_11e8_a3ea_32001b4fe000row8_col1\" class=\"data row8 col1\" >2</td> \n",
       "        <td id=\"T_9e91f69a_52e3_11e8_a3ea_32001b4fe000row8_col2\" class=\"data row8 col2\" >0.258065</td> \n",
       "    </tr>    <tr> \n",
       "        <th id=\"T_9e91f69a_52e3_11e8_a3ea_32001b4fe000level0_row9\" class=\"row_heading level0 row9\" >http://www.climatekeys.com/climate-change-litigation-news</th> \n",
       "        <td id=\"T_9e91f69a_52e3_11e8_a3ea_32001b4fe000row9_col0\" class=\"data row9 col0\" >1</td> \n",
       "        <td id=\"T_9e91f69a_52e3_11e8_a3ea_32001b4fe000row9_col1\" class=\"data row9 col1\" >0</td> \n",
       "        <td id=\"T_9e91f69a_52e3_11e8_a3ea_32001b4fe000row9_col2\" class=\"data row9 col2\" >0</td> \n",
       "    </tr>    <tr> \n",
       "        <th id=\"T_9e91f69a_52e3_11e8_a3ea_32001b4fe000level0_row10\" class=\"row_heading level0 row10\" >http://www.greentalents.de/science-forum_science-forum2009_basf.php</th> \n",
       "        <td id=\"T_9e91f69a_52e3_11e8_a3ea_32001b4fe000row10_col0\" class=\"data row10 col0\" >2</td> \n",
       "        <td id=\"T_9e91f69a_52e3_11e8_a3ea_32001b4fe000row10_col1\" class=\"data row10 col1\" >2</td> \n",
       "        <td id=\"T_9e91f69a_52e3_11e8_a3ea_32001b4fe000row10_col2\" class=\"data row10 col2\" >0.666667</td> \n",
       "    </tr>    <tr> \n",
       "        <th id=\"T_9e91f69a_52e3_11e8_a3ea_32001b4fe000level0_row11\" class=\"row_heading level0 row11\" >http://www.manufacturingglobal.com/leadership/basf-launch-refinish-products-emits-less-co2</th> \n",
       "        <td id=\"T_9e91f69a_52e3_11e8_a3ea_32001b4fe000row11_col0\" class=\"data row11 col0\" >2</td> \n",
       "        <td id=\"T_9e91f69a_52e3_11e8_a3ea_32001b4fe000row11_col1\" class=\"data row11 col1\" >2</td> \n",
       "        <td id=\"T_9e91f69a_52e3_11e8_a3ea_32001b4fe000row11_col2\" class=\"data row11 col2\" >0.3</td> \n",
       "    </tr>    <tr> \n",
       "        <th id=\"T_9e91f69a_52e3_11e8_a3ea_32001b4fe000level0_row12\" class=\"row_heading level0 row12\" >http://www.sentridge.com/energy-saving/climate-change-agreements/</th> \n",
       "        <td id=\"T_9e91f69a_52e3_11e8_a3ea_32001b4fe000row12_col0\" class=\"data row12 col0\" >0</td> \n",
       "        <td id=\"T_9e91f69a_52e3_11e8_a3ea_32001b4fe000row12_col1\" class=\"data row12 col1\" >0</td> \n",
       "        <td id=\"T_9e91f69a_52e3_11e8_a3ea_32001b4fe000row12_col2\" class=\"data row12 col2\" >0</td> \n",
       "    </tr>    <tr> \n",
       "        <th id=\"T_9e91f69a_52e3_11e8_a3ea_32001b4fe000level0_row13\" class=\"row_heading level0 row13\" >http://www.sustainablebrands.com/solutionproviders/basf</th> \n",
       "        <td id=\"T_9e91f69a_52e3_11e8_a3ea_32001b4fe000row13_col0\" class=\"data row13 col0\" >2</td> \n",
       "        <td id=\"T_9e91f69a_52e3_11e8_a3ea_32001b4fe000row13_col1\" class=\"data row13 col1\" >2</td> \n",
       "        <td id=\"T_9e91f69a_52e3_11e8_a3ea_32001b4fe000row13_col2\" class=\"data row13 col2\" >0.428571</td> \n",
       "    </tr>    <tr> \n",
       "        <th id=\"T_9e91f69a_52e3_11e8_a3ea_32001b4fe000level0_row14\" class=\"row_heading level0 row14\" >http://www.thebiojournal.com/basf-launches-e-new-sustainable-foam-insulation-for-the-construction-industry/</th> \n",
       "        <td id=\"T_9e91f69a_52e3_11e8_a3ea_32001b4fe000row14_col0\" class=\"data row14 col0\" >2</td> \n",
       "        <td id=\"T_9e91f69a_52e3_11e8_a3ea_32001b4fe000row14_col1\" class=\"data row14 col1\" >2</td> \n",
       "        <td id=\"T_9e91f69a_52e3_11e8_a3ea_32001b4fe000row14_col2\" class=\"data row14 col2\" >0.3125</td> \n",
       "    </tr>    <tr> \n",
       "        <th id=\"T_9e91f69a_52e3_11e8_a3ea_32001b4fe000level0_row15\" class=\"row_heading level0 row15\" >http://www.uef.fi/en/web/uef-bulletin/reindeer-husbandry</th> \n",
       "        <td id=\"T_9e91f69a_52e3_11e8_a3ea_32001b4fe000row15_col0\" class=\"data row15 col0\" >0</td> \n",
       "        <td id=\"T_9e91f69a_52e3_11e8_a3ea_32001b4fe000row15_col1\" class=\"data row15 col1\" >0</td> \n",
       "        <td id=\"T_9e91f69a_52e3_11e8_a3ea_32001b4fe000row15_col2\" class=\"data row15 col2\" >0</td> \n",
       "    </tr>    <tr> \n",
       "        <th id=\"T_9e91f69a_52e3_11e8_a3ea_32001b4fe000level0_row16\" class=\"row_heading level0 row16\" >http://wxshift.com/climate-change/climate-indicators/global-temperature</th> \n",
       "        <td id=\"T_9e91f69a_52e3_11e8_a3ea_32001b4fe000row16_col0\" class=\"data row16 col0\" >0</td> \n",
       "        <td id=\"T_9e91f69a_52e3_11e8_a3ea_32001b4fe000row16_col1\" class=\"data row16 col1\" >0</td> \n",
       "        <td id=\"T_9e91f69a_52e3_11e8_a3ea_32001b4fe000row16_col2\" class=\"data row16 col2\" >0</td> \n",
       "    </tr>    <tr> \n",
       "        <th id=\"T_9e91f69a_52e3_11e8_a3ea_32001b4fe000level0_row17\" class=\"row_heading level0 row17\" >https://carbonfund.org/2012/06/11/carbon-offsets-connection-solving-climate-change/</th> \n",
       "        <td id=\"T_9e91f69a_52e3_11e8_a3ea_32001b4fe000row17_col0\" class=\"data row17 col0\" >0</td> \n",
       "        <td id=\"T_9e91f69a_52e3_11e8_a3ea_32001b4fe000row17_col1\" class=\"data row17 col1\" >1</td> \n",
       "        <td id=\"T_9e91f69a_52e3_11e8_a3ea_32001b4fe000row17_col2\" class=\"data row17 col2\" >0.25</td> \n",
       "    </tr>    <tr> \n",
       "        <th id=\"T_9e91f69a_52e3_11e8_a3ea_32001b4fe000level0_row18\" class=\"row_heading level0 row18\" >https://corporateeurope.org/agribusiness/2013/11/shame-bee-killers</th> \n",
       "        <td id=\"T_9e91f69a_52e3_11e8_a3ea_32001b4fe000row18_col0\" class=\"data row18 col0\" >2</td> \n",
       "        <td id=\"T_9e91f69a_52e3_11e8_a3ea_32001b4fe000row18_col1\" class=\"data row18 col1\" >2</td> \n",
       "        <td id=\"T_9e91f69a_52e3_11e8_a3ea_32001b4fe000row18_col2\" class=\"data row18 col2\" >0.181818</td> \n",
       "    </tr>    <tr> \n",
       "        <th id=\"T_9e91f69a_52e3_11e8_a3ea_32001b4fe000level0_row19\" class=\"row_heading level0 row19\" >https://energy.economictimes.indiatimes.com/news/oil-and-gas/u-s-judge-to-question-big-oil-on-climate-change/63399529</th> \n",
       "        <td id=\"T_9e91f69a_52e3_11e8_a3ea_32001b4fe000row19_col0\" class=\"data row19 col0\" >1</td> \n",
       "        <td id=\"T_9e91f69a_52e3_11e8_a3ea_32001b4fe000row19_col1\" class=\"data row19 col1\" >2</td> \n",
       "        <td id=\"T_9e91f69a_52e3_11e8_a3ea_32001b4fe000row19_col2\" class=\"data row19 col2\" >0.125</td> \n",
       "    </tr>    <tr> \n",
       "        <th id=\"T_9e91f69a_52e3_11e8_a3ea_32001b4fe000level0_row20\" class=\"row_heading level0 row20\" >https://evobsession.com/the-science-of-global-warming-and-the-causes-and-prevention-of-climate-change/</th> \n",
       "        <td id=\"T_9e91f69a_52e3_11e8_a3ea_32001b4fe000row20_col0\" class=\"data row20 col0\" >0</td> \n",
       "        <td id=\"T_9e91f69a_52e3_11e8_a3ea_32001b4fe000row20_col1\" class=\"data row20 col1\" >0</td> \n",
       "        <td id=\"T_9e91f69a_52e3_11e8_a3ea_32001b4fe000row20_col2\" class=\"data row20 col2\" >0</td> \n",
       "    </tr>    <tr> \n",
       "        <th id=\"T_9e91f69a_52e3_11e8_a3ea_32001b4fe000level0_row21\" class=\"row_heading level0 row21\" >https://fivethirtyeight.com/features/who-should-pay-for-climate-change/</th> \n",
       "        <td id=\"T_9e91f69a_52e3_11e8_a3ea_32001b4fe000row21_col0\" class=\"data row21 col0\" >1</td> \n",
       "        <td id=\"T_9e91f69a_52e3_11e8_a3ea_32001b4fe000row21_col1\" class=\"data row21 col1\" >1</td> \n",
       "        <td id=\"T_9e91f69a_52e3_11e8_a3ea_32001b4fe000row21_col2\" class=\"data row21 col2\" >0.0454545</td> \n",
       "    </tr>    <tr> \n",
       "        <th id=\"T_9e91f69a_52e3_11e8_a3ea_32001b4fe000level0_row22\" class=\"row_heading level0 row22\" >https://garage.vice.com/en_us/article/59y43n/michel-comte-maxxi-rome</th> \n",
       "        <td id=\"T_9e91f69a_52e3_11e8_a3ea_32001b4fe000row22_col0\" class=\"data row22 col0\" >0</td> \n",
       "        <td id=\"T_9e91f69a_52e3_11e8_a3ea_32001b4fe000row22_col1\" class=\"data row22 col1\" >1</td> \n",
       "        <td id=\"T_9e91f69a_52e3_11e8_a3ea_32001b4fe000row22_col2\" class=\"data row22 col2\" >0.0714286</td> \n",
       "    </tr>    <tr> \n",
       "        <th id=\"T_9e91f69a_52e3_11e8_a3ea_32001b4fe000level0_row23\" class=\"row_heading level0 row23\" >https://innovationcommunicator.com/2017/08/basf-innovates-butterfly-solution/</th> \n",
       "        <td id=\"T_9e91f69a_52e3_11e8_a3ea_32001b4fe000row23_col0\" class=\"data row23 col0\" >2</td> \n",
       "        <td id=\"T_9e91f69a_52e3_11e8_a3ea_32001b4fe000row23_col1\" class=\"data row23 col1\" >2</td> \n",
       "        <td id=\"T_9e91f69a_52e3_11e8_a3ea_32001b4fe000row23_col2\" class=\"data row23 col2\" >0.357143</td> \n",
       "    </tr>    <tr> \n",
       "        <th id=\"T_9e91f69a_52e3_11e8_a3ea_32001b4fe000level0_row24\" class=\"row_heading level0 row24\" >https://insideclimatenews.org/news/27062017/bmw-electric-vehicles-cars-flexible-power-grid-solar-renewable-energy</th> \n",
       "        <td id=\"T_9e91f69a_52e3_11e8_a3ea_32001b4fe000row24_col0\" class=\"data row24 col0\" >2</td> \n",
       "        <td id=\"T_9e91f69a_52e3_11e8_a3ea_32001b4fe000row24_col1\" class=\"data row24 col1\" >2</td> \n",
       "        <td id=\"T_9e91f69a_52e3_11e8_a3ea_32001b4fe000row24_col2\" class=\"data row24 col2\" >0.344828</td> \n",
       "    </tr>    <tr> \n",
       "        <th id=\"T_9e91f69a_52e3_11e8_a3ea_32001b4fe000level0_row25\" class=\"row_heading level0 row25\" >https://medium.com/thebeammagazine/markus-bruegmann-on-the-importance-of-microgrids-in-driving-the-transition-to-a-carbon-neutral-517d6422eb99</th> \n",
       "        <td id=\"T_9e91f69a_52e3_11e8_a3ea_32001b4fe000row25_col0\" class=\"data row25 col0\" >2</td> \n",
       "        <td id=\"T_9e91f69a_52e3_11e8_a3ea_32001b4fe000row25_col1\" class=\"data row25 col1\" >2</td> \n",
       "        <td id=\"T_9e91f69a_52e3_11e8_a3ea_32001b4fe000row25_col2\" class=\"data row25 col2\" >0.45</td> \n",
       "    </tr>    <tr> \n",
       "        <th id=\"T_9e91f69a_52e3_11e8_a3ea_32001b4fe000level0_row26\" class=\"row_heading level0 row26\" >https://rctom.hbs.org/submission/climate-change-bmws-supply-chain-strategy-to-reduce-co2-emissions/</th> \n",
       "        <td id=\"T_9e91f69a_52e3_11e8_a3ea_32001b4fe000row26_col0\" class=\"data row26 col0\" >2</td> \n",
       "        <td id=\"T_9e91f69a_52e3_11e8_a3ea_32001b4fe000row26_col1\" class=\"data row26 col1\" >2</td> \n",
       "        <td id=\"T_9e91f69a_52e3_11e8_a3ea_32001b4fe000row26_col2\" class=\"data row26 col2\" >0.55102</td> \n",
       "    </tr>    <tr> \n",
       "        <th id=\"T_9e91f69a_52e3_11e8_a3ea_32001b4fe000level0_row27\" class=\"row_heading level0 row27\" >https://roboticsandautomationnews.com/2017/02/10/abb-and-nova-bus-announce-collaboration-on-electric-transportation/11332/</th> \n",
       "        <td id=\"T_9e91f69a_52e3_11e8_a3ea_32001b4fe000row27_col0\" class=\"data row27 col0\" >2</td> \n",
       "        <td id=\"T_9e91f69a_52e3_11e8_a3ea_32001b4fe000row27_col1\" class=\"data row27 col1\" >2</td> \n",
       "        <td id=\"T_9e91f69a_52e3_11e8_a3ea_32001b4fe000row27_col2\" class=\"data row27 col2\" >0.545455</td> \n",
       "    </tr>    <tr> \n",
       "        <th id=\"T_9e91f69a_52e3_11e8_a3ea_32001b4fe000level0_row28\" class=\"row_heading level0 row28\" >https://synbiobeta.com/commercializing-synthetic-biology/</th> \n",
       "        <td id=\"T_9e91f69a_52e3_11e8_a3ea_32001b4fe000row28_col0\" class=\"data row28 col0\" >1</td> \n",
       "        <td id=\"T_9e91f69a_52e3_11e8_a3ea_32001b4fe000row28_col1\" class=\"data row28 col1\" >1</td> \n",
       "        <td id=\"T_9e91f69a_52e3_11e8_a3ea_32001b4fe000row28_col2\" class=\"data row28 col2\" >0.0408163</td> \n",
       "    </tr>    <tr> \n",
       "        <th id=\"T_9e91f69a_52e3_11e8_a3ea_32001b4fe000level0_row29\" class=\"row_heading level0 row29\" >https://uk.reuters.com/article/us-usa-oil-climatesuits/california-cities-sue-big-oil-firms-over-climate-change-idUKKCN1BV2MI</th> \n",
       "        <td id=\"T_9e91f69a_52e3_11e8_a3ea_32001b4fe000row29_col0\" class=\"data row29 col0\" >1</td> \n",
       "        <td id=\"T_9e91f69a_52e3_11e8_a3ea_32001b4fe000row29_col1\" class=\"data row29 col1\" >1</td> \n",
       "        <td id=\"T_9e91f69a_52e3_11e8_a3ea_32001b4fe000row29_col2\" class=\"data row29 col2\" >0.1</td> \n",
       "    </tr>    <tr> \n",
       "        <th id=\"T_9e91f69a_52e3_11e8_a3ea_32001b4fe000level0_row30\" class=\"row_heading level0 row30\" >https://www.b20germany.org/priorities/energy-climate-resource-efficiency/ecre-leadership/</th> \n",
       "        <td id=\"T_9e91f69a_52e3_11e8_a3ea_32001b4fe000row30_col0\" class=\"data row30 col0\" >1</td> \n",
       "        <td id=\"T_9e91f69a_52e3_11e8_a3ea_32001b4fe000row30_col1\" class=\"data row30 col1\" >1</td> \n",
       "        <td id=\"T_9e91f69a_52e3_11e8_a3ea_32001b4fe000row30_col2\" class=\"data row30 col2\" >0.0471698</td> \n",
       "    </tr>    <tr> \n",
       "        <th id=\"T_9e91f69a_52e3_11e8_a3ea_32001b4fe000level0_row31\" class=\"row_heading level0 row31\" >https://www.bloomberg.com/news/articles/2018-01-18/bmw-ranks-first-subaru-rated-worst-in-survey-by-climate-lobby</th> \n",
       "        <td id=\"T_9e91f69a_52e3_11e8_a3ea_32001b4fe000row31_col0\" class=\"data row31 col0\" >1</td> \n",
       "        <td id=\"T_9e91f69a_52e3_11e8_a3ea_32001b4fe000row31_col1\" class=\"data row31 col1\" >1</td> \n",
       "        <td id=\"T_9e91f69a_52e3_11e8_a3ea_32001b4fe000row31_col2\" class=\"data row31 col2\" >0.0769231</td> \n",
       "    </tr>    <tr> \n",
       "        <th id=\"T_9e91f69a_52e3_11e8_a3ea_32001b4fe000level0_row32\" class=\"row_heading level0 row32\" >https://www.business-humanrights.org/en/usa-santa-cruz-county-city-file-lawsuits-against-29-fossil-fuel-companies-over-alleged-climate-change-contribution</th> \n",
       "        <td id=\"T_9e91f69a_52e3_11e8_a3ea_32001b4fe000row32_col0\" class=\"data row32 col0\" >0</td> \n",
       "        <td id=\"T_9e91f69a_52e3_11e8_a3ea_32001b4fe000row32_col1\" class=\"data row32 col1\" >0</td> \n",
       "        <td id=\"T_9e91f69a_52e3_11e8_a3ea_32001b4fe000row32_col2\" class=\"data row32 col2\" >0</td> \n",
       "    </tr>    <tr> \n",
       "        <th id=\"T_9e91f69a_52e3_11e8_a3ea_32001b4fe000level0_row33\" class=\"row_heading level0 row33\" >https://www.businesswire.com/news/home/20180122006126/en/ABB-City-Davos-Pave-Sustainable-Mobility-E-Vehicle</th> \n",
       "        <td id=\"T_9e91f69a_52e3_11e8_a3ea_32001b4fe000row33_col0\" class=\"data row33 col0\" >2</td> \n",
       "        <td id=\"T_9e91f69a_52e3_11e8_a3ea_32001b4fe000row33_col1\" class=\"data row33 col1\" >2</td> \n",
       "        <td id=\"T_9e91f69a_52e3_11e8_a3ea_32001b4fe000row33_col2\" class=\"data row33 col2\" >0.465116</td> \n",
       "    </tr>    <tr> \n",
       "        <th id=\"T_9e91f69a_52e3_11e8_a3ea_32001b4fe000level0_row34\" class=\"row_heading level0 row34\" >https://www.cleanenergywire.org/news/german-companies-anti-climate-lobby-industry-scathes-energiewende/think-tank-five-german-companies-among-most-active-lobbying-against-climate-policy</th> \n",
       "        <td id=\"T_9e91f69a_52e3_11e8_a3ea_32001b4fe000row34_col0\" class=\"data row34 col0\" >1</td> \n",
       "        <td id=\"T_9e91f69a_52e3_11e8_a3ea_32001b4fe000row34_col1\" class=\"data row34 col1\" >1</td> \n",
       "        <td id=\"T_9e91f69a_52e3_11e8_a3ea_32001b4fe000row34_col2\" class=\"data row34 col2\" >0.0769231</td> \n",
       "    </tr>    <tr> \n",
       "        <th id=\"T_9e91f69a_52e3_11e8_a3ea_32001b4fe000level0_row35\" class=\"row_heading level0 row35\" >https://www.cnbc.com/2018/03/21/reuters-america-u-s-judge-to-question-big-oil-on-climate-change.html</th> \n",
       "        <td id=\"T_9e91f69a_52e3_11e8_a3ea_32001b4fe000row35_col0\" class=\"data row35 col0\" >1</td> \n",
       "        <td id=\"T_9e91f69a_52e3_11e8_a3ea_32001b4fe000row35_col1\" class=\"data row35 col1\" >1</td> \n",
       "        <td id=\"T_9e91f69a_52e3_11e8_a3ea_32001b4fe000row35_col2\" class=\"data row35 col2\" >0.0833333</td> \n",
       "    </tr>    <tr> \n",
       "        <th id=\"T_9e91f69a_52e3_11e8_a3ea_32001b4fe000level0_row36\" class=\"row_heading level0 row36\" >https://www.coastline.fi/2016/2016/01/26/towards-sustainable-world/</th> \n",
       "        <td id=\"T_9e91f69a_52e3_11e8_a3ea_32001b4fe000row36_col0\" class=\"data row36 col0\" >2</td> \n",
       "        <td id=\"T_9e91f69a_52e3_11e8_a3ea_32001b4fe000row36_col1\" class=\"data row36 col1\" >2</td> \n",
       "        <td id=\"T_9e91f69a_52e3_11e8_a3ea_32001b4fe000row36_col2\" class=\"data row36 col2\" >0.714286</td> \n",
       "    </tr>    <tr> \n",
       "        <th id=\"T_9e91f69a_52e3_11e8_a3ea_32001b4fe000level0_row37\" class=\"row_heading level0 row37\" >https://www.eenews.net/stories/1060066527</th> \n",
       "        <td id=\"T_9e91f69a_52e3_11e8_a3ea_32001b4fe000row37_col0\" class=\"data row37 col0\" >1</td> \n",
       "        <td id=\"T_9e91f69a_52e3_11e8_a3ea_32001b4fe000row37_col1\" class=\"data row37 col1\" >1</td> \n",
       "        <td id=\"T_9e91f69a_52e3_11e8_a3ea_32001b4fe000row37_col2\" class=\"data row37 col2\" >0.025641</td> \n",
       "    </tr>    <tr> \n",
       "        <th id=\"T_9e91f69a_52e3_11e8_a3ea_32001b4fe000level0_row38\" class=\"row_heading level0 row38\" >https://www.eenews.net/stories/1060077139</th> \n",
       "        <td id=\"T_9e91f69a_52e3_11e8_a3ea_32001b4fe000row38_col0\" class=\"data row38 col0\" >2</td> \n",
       "        <td id=\"T_9e91f69a_52e3_11e8_a3ea_32001b4fe000row38_col1\" class=\"data row38 col1\" >2</td> \n",
       "        <td id=\"T_9e91f69a_52e3_11e8_a3ea_32001b4fe000row38_col2\" class=\"data row38 col2\" >0.146341</td> \n",
       "    </tr>    <tr> \n",
       "        <th id=\"T_9e91f69a_52e3_11e8_a3ea_32001b4fe000level0_row39\" class=\"row_heading level0 row39\" >https://www.euractiv.com/section/trade-society/news/eu-s-re-industrialisation-dream-hostage-of-high-energy-prices/</th> \n",
       "        <td id=\"T_9e91f69a_52e3_11e8_a3ea_32001b4fe000row39_col0\" class=\"data row39 col0\" >1</td> \n",
       "        <td id=\"T_9e91f69a_52e3_11e8_a3ea_32001b4fe000row39_col1\" class=\"data row39 col1\" >1</td> \n",
       "        <td id=\"T_9e91f69a_52e3_11e8_a3ea_32001b4fe000row39_col2\" class=\"data row39 col2\" >0.0625</td> \n",
       "    </tr>    <tr> \n",
       "        <th id=\"T_9e91f69a_52e3_11e8_a3ea_32001b4fe000level0_row40\" class=\"row_heading level0 row40\" >https://www.houstonchronicle.com/business/article/For-big-oil-climate-change-looms-large-even-in-10993607.php</th> \n",
       "        <td id=\"T_9e91f69a_52e3_11e8_a3ea_32001b4fe000row40_col0\" class=\"data row40 col0\" >1</td> \n",
       "        <td id=\"T_9e91f69a_52e3_11e8_a3ea_32001b4fe000row40_col1\" class=\"data row40 col1\" >1</td> \n",
       "        <td id=\"T_9e91f69a_52e3_11e8_a3ea_32001b4fe000row40_col2\" class=\"data row40 col2\" >0.0833333</td> \n",
       "    </tr>    <tr> \n",
       "        <th id=\"T_9e91f69a_52e3_11e8_a3ea_32001b4fe000level0_row41\" class=\"row_heading level0 row41\" >https://www.independent.co.uk/environment/shell-shareholders-94-per-cent-emissions-reduction-target-reject-paris-agreement-climate-change-a7751681.html</th> \n",
       "        <td id=\"T_9e91f69a_52e3_11e8_a3ea_32001b4fe000row41_col0\" class=\"data row41 col0\" >2</td> \n",
       "        <td id=\"T_9e91f69a_52e3_11e8_a3ea_32001b4fe000row41_col1\" class=\"data row41 col1\" >2</td> \n",
       "        <td id=\"T_9e91f69a_52e3_11e8_a3ea_32001b4fe000row41_col2\" class=\"data row41 col2\" >0.318182</td> \n",
       "    </tr>    <tr> \n",
       "        <th id=\"T_9e91f69a_52e3_11e8_a3ea_32001b4fe000level0_row42\" class=\"row_heading level0 row42\" >https://www.independent.co.uk/news/business/news/bmw-daimler-toyota-most-climate-friendly-car-manufacturers-subaru-worst-carbon-disclosure-project-a8165886.html</th> \n",
       "        <td id=\"T_9e91f69a_52e3_11e8_a3ea_32001b4fe000row42_col0\" class=\"data row42 col0\" >1</td> \n",
       "        <td id=\"T_9e91f69a_52e3_11e8_a3ea_32001b4fe000row42_col1\" class=\"data row42 col1\" >1</td> \n",
       "        <td id=\"T_9e91f69a_52e3_11e8_a3ea_32001b4fe000row42_col2\" class=\"data row42 col2\" >0.0333333</td> \n",
       "    </tr>    <tr> \n",
       "        <th id=\"T_9e91f69a_52e3_11e8_a3ea_32001b4fe000level0_row43\" class=\"row_heading level0 row43\" >https://www.insurancejournal.com/news/national/2018/03/26/484378.htm</th> \n",
       "        <td id=\"T_9e91f69a_52e3_11e8_a3ea_32001b4fe000row43_col0\" class=\"data row43 col0\" >2</td> \n",
       "        <td id=\"T_9e91f69a_52e3_11e8_a3ea_32001b4fe000row43_col1\" class=\"data row43 col1\" >2</td> \n",
       "        <td id=\"T_9e91f69a_52e3_11e8_a3ea_32001b4fe000row43_col2\" class=\"data row43 col2\" >0.222222</td> \n",
       "    </tr>    <tr> \n",
       "        <th id=\"T_9e91f69a_52e3_11e8_a3ea_32001b4fe000level0_row44\" class=\"row_heading level0 row44\" >https://www.motorsportmagazine.com/opinion/formula-e/just-hot-air-formula-es-new-abb-era</th> \n",
       "        <td id=\"T_9e91f69a_52e3_11e8_a3ea_32001b4fe000row44_col0\" class=\"data row44 col0\" >2</td> \n",
       "        <td id=\"T_9e91f69a_52e3_11e8_a3ea_32001b4fe000row44_col1\" class=\"data row44 col1\" >2</td> \n",
       "        <td id=\"T_9e91f69a_52e3_11e8_a3ea_32001b4fe000row44_col2\" class=\"data row44 col2\" >0.444444</td> \n",
       "    </tr>    <tr> \n",
       "        <th id=\"T_9e91f69a_52e3_11e8_a3ea_32001b4fe000level0_row45\" class=\"row_heading level0 row45\" >https://www.nationalgeographic.com/behindtheshot/</th> \n",
       "        <td id=\"T_9e91f69a_52e3_11e8_a3ea_32001b4fe000row45_col0\" class=\"data row45 col0\" >0</td> \n",
       "        <td id=\"T_9e91f69a_52e3_11e8_a3ea_32001b4fe000row45_col1\" class=\"data row45 col1\" >0</td> \n",
       "        <td id=\"T_9e91f69a_52e3_11e8_a3ea_32001b4fe000row45_col2\" class=\"data row45 col2\" >0</td> \n",
       "    </tr>    <tr> \n",
       "        <th id=\"T_9e91f69a_52e3_11e8_a3ea_32001b4fe000level0_row46\" class=\"row_heading level0 row46\" >https://www.nrdc.org/experts/jennifer-sass/trump-pruitt-epa-vets-industry-anti-scientists-sab</th> \n",
       "        <td id=\"T_9e91f69a_52e3_11e8_a3ea_32001b4fe000row46_col0\" class=\"data row46 col0\" >1</td> \n",
       "        <td id=\"T_9e91f69a_52e3_11e8_a3ea_32001b4fe000row46_col1\" class=\"data row46 col1\" >1</td> \n",
       "        <td id=\"T_9e91f69a_52e3_11e8_a3ea_32001b4fe000row46_col2\" class=\"data row46 col2\" >0.0103093</td> \n",
       "    </tr>    <tr> \n",
       "        <th id=\"T_9e91f69a_52e3_11e8_a3ea_32001b4fe000level0_row47\" class=\"row_heading level0 row47\" >https://www.nytimes.com/2017/11/28/business/energy-environment/shell-carbon-oil.html</th> \n",
       "        <td id=\"T_9e91f69a_52e3_11e8_a3ea_32001b4fe000row47_col0\" class=\"data row47 col0\" >2</td> \n",
       "        <td id=\"T_9e91f69a_52e3_11e8_a3ea_32001b4fe000row47_col1\" class=\"data row47 col1\" >2</td> \n",
       "        <td id=\"T_9e91f69a_52e3_11e8_a3ea_32001b4fe000row47_col2\" class=\"data row47 col2\" >0.875</td> \n",
       "    </tr>    <tr> \n",
       "        <th id=\"T_9e91f69a_52e3_11e8_a3ea_32001b4fe000level0_row48\" class=\"row_heading level0 row48\" >https://www.prnewswire.com/news-releases/basf-joins-greentown-labs-as-a-founding-sponsor-of-the-global-center-for-cleantech-innovation-300551681.html</th> \n",
       "        <td id=\"T_9e91f69a_52e3_11e8_a3ea_32001b4fe000row48_col0\" class=\"data row48 col0\" >2</td> \n",
       "        <td id=\"T_9e91f69a_52e3_11e8_a3ea_32001b4fe000row48_col1\" class=\"data row48 col1\" >2</td> \n",
       "        <td id=\"T_9e91f69a_52e3_11e8_a3ea_32001b4fe000row48_col2\" class=\"data row48 col2\" >0.52381</td> \n",
       "    </tr>    <tr> \n",
       "        <th id=\"T_9e91f69a_52e3_11e8_a3ea_32001b4fe000level0_row49\" class=\"row_heading level0 row49\" >https://www.producer.com/2018/04/bayer-sells-basf-seed-ok-buy-monsanto/</th> \n",
       "        <td id=\"T_9e91f69a_52e3_11e8_a3ea_32001b4fe000row49_col0\" class=\"data row49 col0\" >2</td> \n",
       "        <td id=\"T_9e91f69a_52e3_11e8_a3ea_32001b4fe000row49_col1\" class=\"data row49 col1\" >2</td> \n",
       "        <td id=\"T_9e91f69a_52e3_11e8_a3ea_32001b4fe000row49_col2\" class=\"data row49 col2\" >0.147059</td> \n",
       "    </tr>    <tr> \n",
       "        <th id=\"T_9e91f69a_52e3_11e8_a3ea_32001b4fe000level0_row50\" class=\"row_heading level0 row50\" >https://www.sciencefriday.com/segments/climate-science-goes-to-court-in-california-oil-case/</th> \n",
       "        <td id=\"T_9e91f69a_52e3_11e8_a3ea_32001b4fe000row50_col0\" class=\"data row50 col0\" >2</td> \n",
       "        <td id=\"T_9e91f69a_52e3_11e8_a3ea_32001b4fe000row50_col1\" class=\"data row50 col1\" >2</td> \n",
       "        <td id=\"T_9e91f69a_52e3_11e8_a3ea_32001b4fe000row50_col2\" class=\"data row50 col2\" >0.219512</td> \n",
       "    </tr>    <tr> \n",
       "        <th id=\"T_9e91f69a_52e3_11e8_a3ea_32001b4fe000level0_row51\" class=\"row_heading level0 row51\" >https://www.solarquotes.com.au/blog/bmw-renewable-energy-mb0304/</th> \n",
       "        <td id=\"T_9e91f69a_52e3_11e8_a3ea_32001b4fe000row51_col0\" class=\"data row51 col0\" >2</td> \n",
       "        <td id=\"T_9e91f69a_52e3_11e8_a3ea_32001b4fe000row51_col1\" class=\"data row51 col1\" >2</td> \n",
       "        <td id=\"T_9e91f69a_52e3_11e8_a3ea_32001b4fe000row51_col2\" class=\"data row51 col2\" >0.285714</td> \n",
       "    </tr>    <tr> \n",
       "        <th id=\"T_9e91f69a_52e3_11e8_a3ea_32001b4fe000level0_row52\" class=\"row_heading level0 row52\" >https://www.technologyreview.com/s/507331/abb-advance-makes-renewable-energy-supergrids-practical/</th> \n",
       "        <td id=\"T_9e91f69a_52e3_11e8_a3ea_32001b4fe000row52_col0\" class=\"data row52 col0\" >2</td> \n",
       "        <td id=\"T_9e91f69a_52e3_11e8_a3ea_32001b4fe000row52_col1\" class=\"data row52 col1\" >2</td> \n",
       "        <td id=\"T_9e91f69a_52e3_11e8_a3ea_32001b4fe000row52_col2\" class=\"data row52 col2\" >0.541667</td> \n",
       "    </tr>    <tr> \n",
       "        <th id=\"T_9e91f69a_52e3_11e8_a3ea_32001b4fe000level0_row53\" class=\"row_heading level0 row53\" >https://www.theclimategroup.org/news/bmw-group-named-among-climate-leaders-automobile-industry-new-cdp-report</th> \n",
       "        <td id=\"T_9e91f69a_52e3_11e8_a3ea_32001b4fe000row53_col0\" class=\"data row53 col0\" >2</td> \n",
       "        <td id=\"T_9e91f69a_52e3_11e8_a3ea_32001b4fe000row53_col1\" class=\"data row53 col1\" >2</td> \n",
       "        <td id=\"T_9e91f69a_52e3_11e8_a3ea_32001b4fe000row53_col2\" class=\"data row53 col2\" >0.222222</td> \n",
       "    </tr>    <tr> \n",
       "        <th id=\"T_9e91f69a_52e3_11e8_a3ea_32001b4fe000level0_row54\" class=\"row_heading level0 row54\" >https://www.theguardian.com/environment/2012/jul/09/bmw-hypocrisy-european-car-targets</th> \n",
       "        <td id=\"T_9e91f69a_52e3_11e8_a3ea_32001b4fe000row54_col0\" class=\"data row54 col0\" >2</td> \n",
       "        <td id=\"T_9e91f69a_52e3_11e8_a3ea_32001b4fe000row54_col1\" class=\"data row54 col1\" >2</td> \n",
       "        <td id=\"T_9e91f69a_52e3_11e8_a3ea_32001b4fe000row54_col2\" class=\"data row54 col2\" >0.326087</td> \n",
       "    </tr>    <tr> \n",
       "        <th id=\"T_9e91f69a_52e3_11e8_a3ea_32001b4fe000level0_row55\" class=\"row_heading level0 row55\" >https://www.theguardian.com/environment/2017/feb/28/shell-knew-oil-giants-1991-film-warned-climate-change-danger</th> \n",
       "        <td id=\"T_9e91f69a_52e3_11e8_a3ea_32001b4fe000row55_col0\" class=\"data row55 col0\" >2</td> \n",
       "        <td id=\"T_9e91f69a_52e3_11e8_a3ea_32001b4fe000row55_col1\" class=\"data row55 col1\" >2</td> \n",
       "        <td id=\"T_9e91f69a_52e3_11e8_a3ea_32001b4fe000row55_col2\" class=\"data row55 col2\" >0.484848</td> \n",
       "    </tr>    <tr> \n",
       "        <th id=\"T_9e91f69a_52e3_11e8_a3ea_32001b4fe000level0_row56\" class=\"row_heading level0 row56\" >https://www.treehugger.com/climate-change/europe-northeast-us-we-stole-your-winter.html</th> \n",
       "        <td id=\"T_9e91f69a_52e3_11e8_a3ea_32001b4fe000row56_col0\" class=\"data row56 col0\" >2</td> \n",
       "        <td id=\"T_9e91f69a_52e3_11e8_a3ea_32001b4fe000row56_col1\" class=\"data row56 col1\" >2</td> \n",
       "        <td id=\"T_9e91f69a_52e3_11e8_a3ea_32001b4fe000row56_col2\" class=\"data row56 col2\" >0.4</td> \n",
       "    </tr>    <tr> \n",
       "        <th id=\"T_9e91f69a_52e3_11e8_a3ea_32001b4fe000level0_row57\" class=\"row_heading level0 row57\" >https://www.usgbc.org/articles/red-hook-brooklyn-reimagined-resilient-urban-hub-new-basf-interactive-whitepaper</th> \n",
       "        <td id=\"T_9e91f69a_52e3_11e8_a3ea_32001b4fe000row57_col0\" class=\"data row57 col0\" >2</td> \n",
       "        <td id=\"T_9e91f69a_52e3_11e8_a3ea_32001b4fe000row57_col1\" class=\"data row57 col1\" >2</td> \n",
       "        <td id=\"T_9e91f69a_52e3_11e8_a3ea_32001b4fe000row57_col2\" class=\"data row57 col2\" >0.277778</td> \n",
       "    </tr>    <tr> \n",
       "        <th id=\"T_9e91f69a_52e3_11e8_a3ea_32001b4fe000level0_row58\" class=\"row_heading level0 row58\" >https://www.washingtonpost.com/news/energy-environment/wp/2018/01/10/new-york-city-sues-shell-exxonmobil-and-other-oil-majors-over-climate-change/</th> \n",
       "        <td id=\"T_9e91f69a_52e3_11e8_a3ea_32001b4fe000row58_col0\" class=\"data row58 col0\" >1</td> \n",
       "        <td id=\"T_9e91f69a_52e3_11e8_a3ea_32001b4fe000row58_col1\" class=\"data row58 col1\" >1</td> \n",
       "        <td id=\"T_9e91f69a_52e3_11e8_a3ea_32001b4fe000row58_col2\" class=\"data row58 col2\" >0.0769231</td> \n",
       "    </tr></tbody> \n",
       "</table> "
      ],
      "text/plain": [
       "<pandas.io.formats.style.Styler at 0x13b09c208>"
      ]
     },
     "execution_count": 58,
     "metadata": {},
     "output_type": "execute_result"
    }
   ],
   "source": [
    "df.set_index(['url'], inplace=True)\n",
    "def highlight_different(s):\n",
    "    if s['Answer.CompanyConfidence'] != s['company_confidence_estimation']:\n",
    "        return ['background-color: red' if v == s['company_confidence_estimation'] else '' for v in s ]\n",
    "    return ['' for v in s]\n",
    "df2 = df[['Answer.CompanyConfidence', 'company_confidence_estimation', 'company_fraction']]\n",
    "df2.style.apply(highlight_different, axis=1)"
   ]
  },
  {
   "cell_type": "markdown",
   "metadata": {},
   "source": [
    "## Sentiment Baseline:  \n",
    "Based on BoW"
   ]
  },
  {
   "cell_type": "code",
   "execution_count": 60,
   "metadata": {},
   "outputs": [
    {
     "data": {
      "text/plain": [
       "Positive             0.288136\n",
       "Negative             0.254237\n",
       "Strongly Positive    0.203390\n",
       "Neutral              0.152542\n",
       "Strongly Negative    0.101695\n",
       "Name: Answer.sentiment, dtype: float64"
      ]
     },
     "execution_count": 60,
     "metadata": {},
     "output_type": "execute_result"
    }
   ],
   "source": [
    "target_names=('Strongly Negative', 'Negative', 'Neutral', 'Positive', 'Strongly Positive')\n",
    "df['Answer.sentiment'].value_counts(normalize=True)"
   ]
  },
  {
   "cell_type": "code",
   "execution_count": 62,
   "metadata": {},
   "outputs": [
    {
     "name": "stdout",
     "output_type": "stream",
     "text": [
      "Num. of train: 47, Num. of test: 12\n"
     ]
    }
   ],
   "source": [
    "X = df[\"text\"]\n",
    "y = df[\"Answer.sentiment\"]\n",
    "test_size = 0.2\n",
    "X_train, X_test, y_train, y_test = train_test_split(X, y, test_size=test_size, random_state=42,\n",
    "                                                    stratify=y)\n",
    "print(f\"Num. of train: {len(X_train)}, Num. of test: {len(X_test)}\")"
   ]
  },
  {
   "cell_type": "code",
   "execution_count": 63,
   "metadata": {},
   "outputs": [],
   "source": [
    "tf_params = {\"lowercase\": True,\n",
    "             \"analyzer\": \"char_wb\",\n",
    "             \"stop_words\": stop,\n",
    "             \"ngram_range\": (3, 3),\n",
    "             \"min_df\": 1,\n",
    "             \"max_df\": 1.0,\n",
    "             \"preprocessor\": None,\n",
    "             \"max_features\": 3500,\n",
    "             \"norm\": None,\n",
    "             \"use_idf\": True\n",
    "             }"
   ]
  },
  {
   "cell_type": "code",
   "execution_count": 67,
   "metadata": {},
   "outputs": [
    {
     "data": {
      "text/plain": [
       "MultinomialNB(alpha=1.0, class_prior=None, fit_prior=True)"
      ]
     },
     "execution_count": 67,
     "metadata": {},
     "output_type": "execute_result"
    }
   ],
   "source": [
    "priors = y_train.value_counts(normalize=True).values\n",
    "vectorizer = TfidfVectorizer(**tf_params)\n",
    "train = vectorizer.fit_transform(X_train)\n",
    "test = vectorizer.transform(X_test)\n",
    "clf = MultinomialNB()\n",
    "clf.fit(train.toarray(), y_train)"
   ]
  },
  {
   "cell_type": "markdown",
   "metadata": {},
   "source": [
    "Train Prediction"
   ]
  },
  {
   "cell_type": "code",
   "execution_count": 68,
   "metadata": {},
   "outputs": [
    {
     "name": "stdout",
     "output_type": "stream",
     "text": [
      "                   precision    recall  f1-score   support\n",
      "\n",
      "Strongly Negative       0.86      1.00      0.92        12\n",
      "         Negative       1.00      0.86      0.92         7\n",
      "          Neutral       1.00      0.92      0.96        13\n",
      "         Positive       1.00      1.00      1.00         5\n",
      "Strongly Positive       1.00      1.00      1.00        10\n",
      "\n",
      "      avg / total       0.96      0.96      0.96        47\n",
      "\n"
     ]
    }
   ],
   "source": [
    "pred = clf.predict(train.toarray())\n",
    "print(classification_report(y_train, pred, target_names=target_names))"
   ]
  },
  {
   "cell_type": "markdown",
   "metadata": {},
   "source": [
    "Test prediction"
   ]
  },
  {
   "cell_type": "code",
   "execution_count": 69,
   "metadata": {},
   "outputs": [
    {
     "name": "stdout",
     "output_type": "stream",
     "text": [
      "                   precision    recall  f1-score   support\n",
      "\n",
      "Strongly Negative       1.00      0.33      0.50         3\n",
      "         Negative       1.00      0.50      0.67         2\n",
      "          Neutral       0.44      1.00      0.62         4\n",
      "         Positive       0.00      0.00      0.00         1\n",
      "Strongly Positive       0.00      0.00      0.00         2\n",
      "\n",
      "      avg / total       0.56      0.50      0.44        12\n",
      "\n"
     ]
    },
    {
     "name": "stderr",
     "output_type": "stream",
     "text": [
      "/Users/bmarchenko/projects/prj-nlp/env/lib/python3.6/site-packages/sklearn/metrics/classification.py:1135: UndefinedMetricWarning: Precision and F-score are ill-defined and being set to 0.0 in labels with no predicted samples.\n",
      "  'precision', 'predicted', average, warn_for)\n"
     ]
    }
   ],
   "source": [
    "pred = clf.predict(test.toarray())\n",
    "print(classification_report(y_test, pred, target_names=target_names))"
   ]
  },
  {
   "cell_type": "markdown",
   "metadata": {},
   "source": [
    "## Company Confidence Baseline:  \n",
    "Using the same BoW technique as above"
   ]
  },
  {
   "cell_type": "code",
   "execution_count": 73,
   "metadata": {},
   "outputs": [
    {
     "name": "stdout",
     "output_type": "stream",
     "text": [
      "                   precision    recall  f1-score   support\n",
      "\n",
      "Strongly Negative       0.00      0.00      0.00         1\n",
      "         Negative       0.00      0.00      0.00         2\n",
      "          Neutral       0.75      1.00      0.86         9\n",
      "\n",
      "      avg / total       0.56      0.75      0.64        12\n",
      "\n"
     ]
    },
    {
     "name": "stderr",
     "output_type": "stream",
     "text": [
      "/Users/bmarchenko/projects/prj-nlp/env/lib/python3.6/site-packages/sklearn/metrics/classification.py:1428: UserWarning: labels size, 3, does not match size of target_names, 5\n",
      "  .format(len(labels), len(target_names))\n",
      "/Users/bmarchenko/projects/prj-nlp/env/lib/python3.6/site-packages/sklearn/metrics/classification.py:1135: UndefinedMetricWarning: Precision and F-score are ill-defined and being set to 0.0 in labels with no predicted samples.\n",
      "  'precision', 'predicted', average, warn_for)\n"
     ]
    }
   ],
   "source": [
    "y = df[\"Answer.ClimateConfidence\"]\n",
    "test_size = 0.2\n",
    "X_train, X_test, y_train, y_test = train_test_split(X, y, test_size=test_size, random_state=42,\n",
    "                                                    stratify=y)\n",
    "priors = y_train.value_counts(normalize=True).values\n",
    "vectorizer = TfidfVectorizer(**tf_params)\n",
    "train = vectorizer.fit_transform(X_train)\n",
    "test = vectorizer.transform(X_test)\n",
    "clf = MultinomialNB()\n",
    "clf.fit(train.toarray(), y_train)\n",
    "pred = clf.predict(test.toarray())\n",
    "print(classification_report(y_test, pred, target_names=target_names))"
   ]
  },
  {
   "cell_type": "code",
   "execution_count": null,
   "metadata": {},
   "outputs": [],
   "source": []
  }
 ],
 "metadata": {
  "kernelspec": {
   "display_name": "sentiment",
   "language": "python",
   "name": "sentiment"
  },
  "language_info": {
   "codemirror_mode": {
    "name": "ipython",
    "version": 3
   },
   "file_extension": ".py",
   "mimetype": "text/x-python",
   "name": "python",
   "nbconvert_exporter": "python",
   "pygments_lexer": "ipython3",
   "version": "3.6.4"
  }
 },
 "nbformat": 4,
 "nbformat_minor": 2
}
