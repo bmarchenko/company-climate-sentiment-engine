{
 "cells": [
  {
   "cell_type": "code",
   "execution_count": 1,
   "metadata": {},
   "outputs": [],
   "source": [
    "import os\n",
    "import csv\n",
    "from pattern.web import Google, plaintext\n",
    "from pattern.web import SEARCH\n",
    "BASE_DIR_NAME = \"output\"\n",
    "companies = ['Chevron']#u'Royal Dutch Shell PLC',]# u'PetroChina Co Ltd',  u'Nordea Bank AB', u'Exxon Mobil Corp', 'ABB', 'BMW','BASF']"
   ]
  },
  {
   "cell_type": "markdown",
   "metadata": {},
   "source": [
    "This code goes through Google Search Results and stores each page to separate file. It stops if there is no results.   \n",
    "All Pattern users are allowed up to 100 requests per day.\n",
    "Pattern works only on Python 2.x"
   ]
  },
  {
   "cell_type": "code",
   "execution_count": 2,
   "metadata": {},
   "outputs": [
    {
     "name": "stdout",
     "output_type": "stream",
     "text": [
      "querying Chevron:\n",
      "request #1, received 10 results\n",
      "request #2, received 10 results\n",
      "request #3, received 10 results\n",
      "request #4, received 10 results\n",
      "request #5, received 10 results\n",
      "request #6, received 10 results\n",
      "request #7, received 10 results\n",
      "request #8, received 10 results\n",
      "request #9, received 10 results\n",
      "request #10, received 10 results\n",
      "request #11, received 0 results\n",
      "END: no results\n"
     ]
    }
   ],
   "source": [
    "engine = Google(license=None, language=\"en\")\n",
    "for c in companies:\n",
    "    dirpath = '{}/{}'.format(BASE_DIR_NAME, c)\n",
    "    if not os.path.exists(dirpath):\n",
    "        os.mkdir(dirpath)\n",
    "    q = \"{} 'climate change'\".format(c)\n",
    "        # Google is very fast but you can only get up to 100 (10x10) results per query.\n",
    "    res = []\n",
    "    print(\"querying {}:\".format(c))\n",
    "    for i in range(1, 12):\n",
    "\n",
    "        res = engine.search(q, start=i, count=10, type=SEARCH, cached=False)\n",
    "        print(\"request #{}, received {} results\".format(i, len(res)))\n",
    "        if len(res) == 0:\n",
    "            print(\"END: no results\")\n",
    "            break\n",
    "        with open(\"{}/{}.csv\".format(dirpath, i), \"w\") as fl:\n",
    "            spamwriter = csv.writer(fl)\n",
    "            spamwriter.writerow([\"url\", \"title\", \"text\"])\n",
    "            for result in res:\n",
    "                if isinstance(result, basestring):\n",
    "                    spamwriter.writerow([result, \"\", \"\"])\n",
    "                else:\n",
    "                    spamwriter.writerow([result.url, result.title.encode(\"utf-8\"), result.text.encode(\"utf-8\")])"
   ]
  },
  {
   "cell_type": "code",
   "execution_count": null,
   "metadata": {},
   "outputs": [],
   "source": []
  }
 ],
 "metadata": {
  "kernelspec": {
   "display_name": "Python 2",
   "language": "python",
   "name": "python2"
  },
  "language_info": {
   "codemirror_mode": {
    "name": "ipython",
    "version": 2
   },
   "file_extension": ".py",
   "mimetype": "text/x-python",
   "name": "python",
   "nbconvert_exporter": "python",
   "pygments_lexer": "ipython2",
   "version": "2.7.10"
  }
 },
 "nbformat": 4,
 "nbformat_minor": 1
}
