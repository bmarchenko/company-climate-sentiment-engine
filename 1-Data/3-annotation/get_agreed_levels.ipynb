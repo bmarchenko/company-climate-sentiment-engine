{
 "cells": [
  {
   "cell_type": "code",
   "execution_count": 29,
   "metadata": {},
   "outputs": [],
   "source": [
    "import os\n",
    "import pandas as pd\n",
    "BATCHES_FOLDER = \"MTurkBatchesResults\"\n",
    "OUTPUT_FILEMANE = \"output.csv\""
   ]
  },
  {
   "cell_type": "markdown",
   "metadata": {},
   "source": [
    "This code finds the \"truth\" - annotators agreements and stores to file"
   ]
  },
  {
   "cell_type": "code",
   "execution_count": 30,
   "metadata": {},
   "outputs": [
    {
     "name": "stdout",
     "output_type": "stream",
     "text": [
      "['MTurkBatchesResults/Batch_3222045_batch_results.csv', 'MTurkBatchesResults/Batch_3227135_batch_results (1).csv', 'MTurkBatchesResults/truth.csv', 'MTurkBatchesResults/Batch_3222021_batch_results.csv', 'MTurkBatchesResults/Batch_3227073_batch_results.csv', 'MTurkBatchesResults/Batch_3227115_batch_results.csv']\n"
     ]
    }
   ],
   "source": [
    "mturk_batches = [\"{}/{}\".format(BATCHES_FOLDER, fl) for fl in os.listdir(BATCHES_FOLDER) if fl.endswith(\".csv\")]\n",
    "print(mturk_batches)\n",
    "#modified by hand\n",
    "truth_df = pd.read_csv(\"{}/{}\".format(BATCHES_FOLDER, \"truth.csv\"))\n",
    "# mturk_batches += [\"{}/{}\".format(BATCHES_FOLDER, \"truth.csv\") for i in range(5)]"
   ]
  },
  {
   "cell_type": "code",
   "execution_count": 31,
   "metadata": {},
   "outputs": [
    {
     "data": {
      "text/html": [
       "<div>\n",
       "<style scoped>\n",
       "    .dataframe tbody tr th:only-of-type {\n",
       "        vertical-align: middle;\n",
       "    }\n",
       "\n",
       "    .dataframe tbody tr th {\n",
       "        vertical-align: top;\n",
       "    }\n",
       "\n",
       "    .dataframe thead th {\n",
       "        text-align: right;\n",
       "    }\n",
       "</style>\n",
       "<table border=\"1\" class=\"dataframe\">\n",
       "  <thead>\n",
       "    <tr style=\"text-align: right;\">\n",
       "      <th></th>\n",
       "      <th>Input.company</th>\n",
       "      <th>Input.url</th>\n",
       "      <th>Answer.ClimateConfidence</th>\n",
       "      <th>Answer.CompanyConfidence</th>\n",
       "      <th>Answer.sentiment</th>\n",
       "      <th>Input.content</th>\n",
       "      <th>Input.extract</th>\n",
       "      <th>Input.title</th>\n",
       "      <th>comments</th>\n",
       "    </tr>\n",
       "  </thead>\n",
       "  <tbody>\n",
       "    <tr>\n",
       "      <th>0</th>\n",
       "      <td>Goodyear Tire &amp; Rubber Co</td>\n",
       "      <td>http://www.performancetopeka.com/shop-for-tire...</td>\n",
       "      <td>0.0</td>\n",
       "      <td>2.0</td>\n",
       "      <td>NaN</td>\n",
       "      <td>&lt;HTML lang=\"en-US\"&gt;\\n&lt;style type=\"text/css\"&gt;\\n...</td>\n",
       "      <td>The &lt;b&gt;Goodyear Tire &amp;amp; Rubber Company&lt;/b&gt; ...</td>\n",
       "      <td>Shop Goodyear Tires in Topeka, KS :: Performan...</td>\n",
       "      <td>d</td>\n",
       "    </tr>\n",
       "    <tr>\n",
       "      <th>1</th>\n",
       "      <td>BASF AG</td>\n",
       "      <td>https://www.euractiv.com/section/trade-society...</td>\n",
       "      <td>2.0</td>\n",
       "      <td>0.0</td>\n",
       "      <td>NaN</td>\n",
       "      <td>&lt;HTML class=\"no-js\" lang=\"en-GB\" moznomarginbo...</td>\n",
       "      <td>... “It depends on what the public is willing ...</td>\n",
       "      <td>EU's re-industrialisation dream 'hostage' of h...</td>\n",
       "      <td>d</td>\n",
       "    </tr>\n",
       "    <tr>\n",
       "      <th>2</th>\n",
       "      <td>Bridgestone Corp.</td>\n",
       "      <td>https://www.bcorporation.net/blog/climate-change</td>\n",
       "      <td>2.0</td>\n",
       "      <td>0.0</td>\n",
       "      <td>NaN</td>\n",
       "      <td>&lt;HTML class=\"bcorp\" lang=\"en\" dir=\"ltr\" prefix...</td>\n",
       "      <td>&lt;b&gt;Climate&lt;/b&gt; Ride, B &lt;b&gt;Corps&lt;/b&gt;, and Colle...</td>\n",
       "      <td>Climate change | B Corporation</td>\n",
       "      <td>d</td>\n",
       "    </tr>\n",
       "    <tr>\n",
       "      <th>3</th>\n",
       "      <td>General Motors Corp.</td>\n",
       "      <td>http://www.greengrowthknowledge.org/blog/why-g...</td>\n",
       "      <td>1.0</td>\n",
       "      <td>2.0</td>\n",
       "      <td>Positive</td>\n",
       "      <td>&lt;HTML class=\"no-js not-oldie\" lang=\"en\" dir=\"l...</td>\n",
       "      <td>... In November 2012 &lt;b&gt;General Motors&lt;/b&gt; (&lt;b...</td>\n",
       "      <td>Why General Motors is developing new electric ...</td>\n",
       "      <td>d</td>\n",
       "    </tr>\n",
       "    <tr>\n",
       "      <th>4</th>\n",
       "      <td>Ford Motor Co.</td>\n",
       "      <td>https://www.climaterealityproject.org/ford</td>\n",
       "      <td>1.0</td>\n",
       "      <td>2.0</td>\n",
       "      <td>Positive</td>\n",
       "      <td>&lt;HTML lang=\"en\" dir=\"ltr\" prefix=\"content: htt...</td>\n",
       "      <td>Tell Bill Ford and &lt;b&gt;Ford Motor Company&lt;/b&gt;: ...</td>\n",
       "      <td>Tell Bill Ford and Ford Motor Company: No U-Tu...</td>\n",
       "      <td>d</td>\n",
       "    </tr>\n",
       "    <tr>\n",
       "      <th>5</th>\n",
       "      <td>Exxon Mobil Corp.</td>\n",
       "      <td>http://fortune.com/2017/03/29/exxon-mobil-dona...</td>\n",
       "      <td>2.0</td>\n",
       "      <td>2.0</td>\n",
       "      <td>Negative</td>\n",
       "      <td>&lt;HTML lang=\"en\"&gt;\\n&lt;style type=\"text/css\"&gt;\\nA:b...</td>\n",
       "      <td>... &lt;b&gt;ExxonMobil&lt;/b&gt;, the world&amp;#39;s largest...</td>\n",
       "      <td>Exxon Mobil Wants Donald Trump to Keep the Par...</td>\n",
       "      <td>d</td>\n",
       "    </tr>\n",
       "    <tr>\n",
       "      <th>6</th>\n",
       "      <td>Nestle SA</td>\n",
       "      <td>http://www.sustainablebrands.com/news_and_view...</td>\n",
       "      <td>2.0</td>\n",
       "      <td>1.0</td>\n",
       "      <td>Positive</td>\n",
       "      <td>&lt;HTML xmlns=\"http://www.w3.org/1999/xhtml\" xml...</td>\n",
       "      <td>... To make the A-List of &lt;b&gt;Climate&lt;/b&gt; Polic...</td>\n",
       "      <td>Report: Unilever, Tesla, Nestlé Among Biggest ...</td>\n",
       "      <td>d</td>\n",
       "    </tr>\n",
       "    <tr>\n",
       "      <th>7</th>\n",
       "      <td>Toyota Motor Corp.</td>\n",
       "      <td>https://www.greenbuildermedia.com/green-builde...</td>\n",
       "      <td>2.0</td>\n",
       "      <td>1.0</td>\n",
       "      <td>Positive</td>\n",
       "      <td>&lt;HTML class=\"no-js\" lang=\"en\"&gt;\\n&lt;style type=\"t...</td>\n",
       "      <td>&lt;b&gt;Toyota Motor Corp&lt;/b&gt;. Here&amp;#39;s a six-pro...</td>\n",
       "      <td>Green Builder Media's 2017 Eco-Leaders</td>\n",
       "      <td>NaN</td>\n",
       "    </tr>\n",
       "    <tr>\n",
       "      <th>8</th>\n",
       "      <td>Duke Energy</td>\n",
       "      <td>https://www.facingsouth.org/2016/02/nc-environ...</td>\n",
       "      <td>1.0</td>\n",
       "      <td>2.0</td>\n",
       "      <td>Positive</td>\n",
       "      <td>&lt;HTML lang=\"en\" dir=\"ltr\" prefix=\"og: http://o...</td>\n",
       "      <td>... &lt;b&gt;Duke Energy&lt;/b&gt; officials in recent wee...</td>\n",
       "      <td>NC environmental officials: Too anti-regulatio...</td>\n",
       "      <td>d?</td>\n",
       "    </tr>\n",
       "    <tr>\n",
       "      <th>9</th>\n",
       "      <td>BASF AG</td>\n",
       "      <td>https://synbiobeta.com/commercializing-synthet...</td>\n",
       "      <td>2.0</td>\n",
       "      <td>1.0</td>\n",
       "      <td>Neutral</td>\n",
       "      <td>&lt;HTML class=\"\" lang=\"en-US\" prefix=\"og: http:/...</td>\n",
       "      <td>... Innovation to Tackle &lt;b&gt;Climate Change&lt;/b&gt;...</td>\n",
       "      <td>Innovation to Tackle Climate Change and Feed a...</td>\n",
       "      <td>d</td>\n",
       "    </tr>\n",
       "  </tbody>\n",
       "</table>\n",
       "</div>"
      ],
      "text/plain": [
       "               Input.company  \\\n",
       "0  Goodyear Tire & Rubber Co   \n",
       "1                    BASF AG   \n",
       "2          Bridgestone Corp.   \n",
       "3       General Motors Corp.   \n",
       "4             Ford Motor Co.   \n",
       "5          Exxon Mobil Corp.   \n",
       "6                  Nestle SA   \n",
       "7         Toyota Motor Corp.   \n",
       "8                Duke Energy   \n",
       "9                    BASF AG   \n",
       "\n",
       "                                           Input.url  \\\n",
       "0  http://www.performancetopeka.com/shop-for-tire...   \n",
       "1  https://www.euractiv.com/section/trade-society...   \n",
       "2   https://www.bcorporation.net/blog/climate-change   \n",
       "3  http://www.greengrowthknowledge.org/blog/why-g...   \n",
       "4         https://www.climaterealityproject.org/ford   \n",
       "5  http://fortune.com/2017/03/29/exxon-mobil-dona...   \n",
       "6  http://www.sustainablebrands.com/news_and_view...   \n",
       "7  https://www.greenbuildermedia.com/green-builde...   \n",
       "8  https://www.facingsouth.org/2016/02/nc-environ...   \n",
       "9  https://synbiobeta.com/commercializing-synthet...   \n",
       "\n",
       "   Answer.ClimateConfidence  Answer.CompanyConfidence Answer.sentiment  \\\n",
       "0                       0.0                       2.0              NaN   \n",
       "1                       2.0                       0.0              NaN   \n",
       "2                       2.0                       0.0              NaN   \n",
       "3                       1.0                       2.0         Positive   \n",
       "4                       1.0                       2.0         Positive   \n",
       "5                       2.0                       2.0         Negative   \n",
       "6                       2.0                       1.0         Positive   \n",
       "7                       2.0                       1.0         Positive   \n",
       "8                       1.0                       2.0         Positive   \n",
       "9                       2.0                       1.0          Neutral   \n",
       "\n",
       "                                       Input.content  \\\n",
       "0  <HTML lang=\"en-US\">\\n<style type=\"text/css\">\\n...   \n",
       "1  <HTML class=\"no-js\" lang=\"en-GB\" moznomarginbo...   \n",
       "2  <HTML class=\"bcorp\" lang=\"en\" dir=\"ltr\" prefix...   \n",
       "3  <HTML class=\"no-js not-oldie\" lang=\"en\" dir=\"l...   \n",
       "4  <HTML lang=\"en\" dir=\"ltr\" prefix=\"content: htt...   \n",
       "5  <HTML lang=\"en\">\\n<style type=\"text/css\">\\nA:b...   \n",
       "6  <HTML xmlns=\"http://www.w3.org/1999/xhtml\" xml...   \n",
       "7  <HTML class=\"no-js\" lang=\"en\">\\n<style type=\"t...   \n",
       "8  <HTML lang=\"en\" dir=\"ltr\" prefix=\"og: http://o...   \n",
       "9  <HTML class=\"\" lang=\"en-US\" prefix=\"og: http:/...   \n",
       "\n",
       "                                       Input.extract  \\\n",
       "0  The <b>Goodyear Tire &amp; Rubber Company</b> ...   \n",
       "1  ... “It depends on what the public is willing ...   \n",
       "2  <b>Climate</b> Ride, B <b>Corps</b>, and Colle...   \n",
       "3  ... In November 2012 <b>General Motors</b> (<b...   \n",
       "4  Tell Bill Ford and <b>Ford Motor Company</b>: ...   \n",
       "5  ... <b>ExxonMobil</b>, the world&#39;s largest...   \n",
       "6  ... To make the A-List of <b>Climate</b> Polic...   \n",
       "7  <b>Toyota Motor Corp</b>. Here&#39;s a six-pro...   \n",
       "8  ... <b>Duke Energy</b> officials in recent wee...   \n",
       "9  ... Innovation to Tackle <b>Climate Change</b>...   \n",
       "\n",
       "                                         Input.title comments  \n",
       "0  Shop Goodyear Tires in Topeka, KS :: Performan...        d  \n",
       "1  EU's re-industrialisation dream 'hostage' of h...        d  \n",
       "2                     Climate change | B Corporation        d  \n",
       "3  Why General Motors is developing new electric ...        d  \n",
       "4  Tell Bill Ford and Ford Motor Company: No U-Tu...        d  \n",
       "5  Exxon Mobil Wants Donald Trump to Keep the Par...        d  \n",
       "6  Report: Unilever, Tesla, Nestlé Among Biggest ...        d  \n",
       "7             Green Builder Media's 2017 Eco-Leaders      NaN  \n",
       "8  NC environmental officials: Too anti-regulatio...       d?  \n",
       "9  Innovation to Tackle Climate Change and Feed a...        d  "
      ]
     },
     "execution_count": 31,
     "metadata": {},
     "output_type": "execute_result"
    }
   ],
   "source": [
    "truth_df.head(10)"
   ]
  },
  {
   "cell_type": "code",
   "execution_count": 32,
   "metadata": {},
   "outputs": [],
   "source": [
    "import numpy as np\n",
    "df = pd.concat([pd.read_csv(batch) for batch in mturk_batches])\n",
    "# df = df[df['Answer.sentiment'].notnull()]\n",
    "\n",
    "df = df.dropna(subset = ['Answer.CompanyConfidence'])\n",
    "truth_df = truth_df.dropna(subset = ['Answer.CompanyConfidence'])\n",
    "# df = df[np.isfinite(df['Answer.sentiment'])]\n",
    "urls = df.groupby(\"Input.url\", as_index=False)"
   ]
  },
  {
   "cell_type": "code",
   "execution_count": 33,
   "metadata": {},
   "outputs": [
    {
     "data": {
      "text/plain": [
       "462"
      ]
     },
     "execution_count": 33,
     "metadata": {},
     "output_type": "execute_result"
    }
   ],
   "source": [
    "# pd.options.display.max_colwidth = 10000\n",
    "# row = df.loc[df['Input.url'] == 'http://bellona.org/news/arctic/2017-04-trump-like-friend-of-putin-tells-him-climate-change-isnt-man-made']\n",
    "# row['Input.company']\n",
    "# df.columns\n",
    "len(df)"
   ]
  },
  {
   "cell_type": "code",
   "execution_count": 34,
   "metadata": {},
   "outputs": [],
   "source": [
    "columns = ['url', 'company', 'short_text', 'title', 'full_text', 'Answer.ClimateConfidence', 'Answer.CompanyConfidence', 'Answer.sentiment']\n",
    "result_df = pd.DataFrame(columns=columns)\n",
    "# agree_level = []\n",
    "cf = []\n",
    "\n",
    "for num, url in enumerate(list(urls.groups.keys())):\n",
    "    results = df.loc[df['Input.url'] == url]\n",
    "#     if 'w.ohio.com/akron/writers/katie-byard/goodyear-bridgestone-team-up-to-distribute-tires-nationallly-new-tirehub-will-be-one-of-the-largest-such-joint-ventures-in-the-country' in url:\n",
    "#         import ipdb; ipdb.set_trace()\n",
    "    key = results['Input.extract'].keys()[0]\n",
    "    vals = [url, results['Input.company'][key], results['Input.extract'][key], results['Input.title'][key], results['Input.content'][key]]\n",
    "    for column_name in ['Answer.ClimateConfidence', 'Answer.CompanyConfidence', 'Answer.sentiment']:\n",
    "        #agree level == 2\n",
    "\n",
    "        if any(truth_df['Input.url'] == url) and truth_df.loc[truth_df['Input.url'] == url][column_name].iloc[0] != np.nan:\n",
    "            vals.append(truth_df.loc[truth_df['Input.url'] == url][column_name].iloc[0])\n",
    "#             if column_name =='Answer.CompanyConfidence' and np.isnan(truth_df.loc[truth_df['Input.url'] == url][column_name].iloc[0]):\n",
    "#                 import ipdb; ipdb.set_trace()\n",
    "#                 cf.append(truth_df.loc[truth_df['Input.url'] == url][column_name].iloc[0])\n",
    "            continue\n",
    "        \n",
    "        counter = results[column_name].value_counts()\n",
    "        if len(counter) > 0:\n",
    "            highest = max(counter.values)\n",
    "            #         agree_level.append(\"{} of {}\".format(highest, sum(counter.values)))\n",
    "            res = [k for k, v in counter.items() if v == highest]\n",
    "            vals.append(res[0])\n",
    "            continue\n",
    "        vals.append(None)\n",
    "    result_df.loc[num] = vals\n",
    "# result_df['agree_level'] = agree_level"
   ]
  },
  {
   "cell_type": "code",
   "execution_count": 35,
   "metadata": {},
   "outputs": [
    {
     "data": {
      "text/plain": [
       "348"
      ]
     },
     "execution_count": 35,
     "metadata": {},
     "output_type": "execute_result"
    }
   ],
   "source": [
    "len(result_df)"
   ]
  },
  {
   "cell_type": "code",
   "execution_count": 36,
   "metadata": {},
   "outputs": [
    {
     "data": {
      "text/plain": [
       "array(['GazProm', 'RosNeft', 'Chevron', 'Petro China',\n",
       "       'Royal Dutch Shell PLC', 'BMW', 'Goodyear Tire & Rubber Co',\n",
       "       'Toyota Motor Corp.', 'Exxon Mobil Corp.', 'Cargill Inc', 'Ineos',\n",
       "       'BASF AG', 'EDS Corp.', 'ABB', 'Petrobras',\n",
       "       'Sumitomo Rubber Industries', 'Amazon.com Inc.', 'Ford Motor Co.',\n",
       "       'Volkswagen AG', 'Daimler AG', 'General Motors Corp.', 'BASF',\n",
       "       'Apple Inc', 'Bayer AG', 'Michelin', 'PepsiCo Inc.', 'Nestle SA',\n",
       "       'Johnson & Johnson', 'IBM', 'Bridgestone Corp.', 'Duke Energy',\n",
       "       'BP plc', 'Chevron Corp.', 'Dow Chemical'], dtype=object)"
      ]
     },
     "execution_count": 36,
     "metadata": {},
     "output_type": "execute_result"
    }
   ],
   "source": [
    "result_df['company'].unique()\n",
    "\n",
    "# df.loc[result_df['Штзгею'] == result_df['Answer.CompanyConfidence'].unique()[-1]]\n",
    "# dr"
   ]
  },
  {
   "cell_type": "code",
   "execution_count": 38,
   "metadata": {},
   "outputs": [],
   "source": [
    "result_df.to_csv(OUTPUT_FILEMANE, index=False)"
   ]
  },
  {
   "cell_type": "code",
   "execution_count": null,
   "metadata": {},
   "outputs": [],
   "source": []
  }
 ],
 "metadata": {
  "kernelspec": {
   "display_name": "sentiment",
   "language": "python",
   "name": "sentiment"
  },
  "language_info": {
   "codemirror_mode": {
    "name": "ipython",
    "version": 3
   },
   "file_extension": ".py",
   "mimetype": "text/x-python",
   "name": "python",
   "nbconvert_exporter": "python",
   "pygments_lexer": "ipython3",
   "version": "3.6.4"
  }
 },
 "nbformat": 4,
 "nbformat_minor": 2
}
