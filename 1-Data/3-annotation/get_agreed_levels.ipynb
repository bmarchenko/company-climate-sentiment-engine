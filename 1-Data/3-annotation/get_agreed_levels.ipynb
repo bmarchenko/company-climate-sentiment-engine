{
 "cells": [
  {
   "cell_type": "code",
   "execution_count": 1,
   "metadata": {},
   "outputs": [],
   "source": [
    "import os\n",
    "import pandas as pd\n",
    "BATCHES_FOLDER = \"MTurkBatchesResults\"\n",
    "OUTPUT_FILEMANE = \"output.csv\""
   ]
  },
  {
   "cell_type": "markdown",
   "metadata": {},
   "source": [
    "This code finds the \"truth\" - annotators agreements and stores to file"
   ]
  },
  {
   "cell_type": "code",
   "execution_count": 2,
   "metadata": {},
   "outputs": [
    {
     "name": "stdout",
     "output_type": "stream",
     "text": [
      "['MTurkBatchesResults/truth.csv']\n"
     ]
    }
   ],
   "source": [
    "mturk_batches = [\"{}/{}\".format(BATCHES_FOLDER, fl) for fl in os.listdir(BATCHES_FOLDER) if \"truth.csv\" in fl]#fl.endswith(\".csv\")]\n",
    "print(mturk_batches)\n",
    "#modified by hand\n",
    "truth_df = pd.read_csv(\"{}/{}\".format(BATCHES_FOLDER, \"truth.csv\"))\n",
    "# mturk_batches += [\"{}/{}\".format(BATCHES_FOLDER, \"truth.csv\") for i in range(5)]"
   ]
  },
  {
   "cell_type": "code",
   "execution_count": 3,
   "metadata": {},
   "outputs": [
    {
     "data": {
      "text/html": [
       "<div>\n",
       "<style scoped>\n",
       "    .dataframe tbody tr th:only-of-type {\n",
       "        vertical-align: middle;\n",
       "    }\n",
       "\n",
       "    .dataframe tbody tr th {\n",
       "        vertical-align: top;\n",
       "    }\n",
       "\n",
       "    .dataframe thead th {\n",
       "        text-align: right;\n",
       "    }\n",
       "</style>\n",
       "<table border=\"1\" class=\"dataframe\">\n",
       "  <thead>\n",
       "    <tr style=\"text-align: right;\">\n",
       "      <th></th>\n",
       "      <th>company</th>\n",
       "      <th>url</th>\n",
       "      <th>climate_confidence</th>\n",
       "      <th>company_confidence</th>\n",
       "      <th>sentiment</th>\n",
       "      <th>content</th>\n",
       "      <th>extract</th>\n",
       "      <th>title</th>\n",
       "      <th>comments</th>\n",
       "    </tr>\n",
       "  </thead>\n",
       "  <tbody>\n",
       "    <tr>\n",
       "      <th>0</th>\n",
       "      <td>Goodyear Tire &amp; Rubber Co</td>\n",
       "      <td>http://www.performancetopeka.com/shop-for-tire...</td>\n",
       "      <td>0.0</td>\n",
       "      <td>2.0</td>\n",
       "      <td>NaN</td>\n",
       "      <td>&lt;HTML lang=\"en-US\"&gt;\\n&lt;style type=\"text/css\"&gt;\\n...</td>\n",
       "      <td>The &lt;b&gt;Goodyear Tire &amp;amp; Rubber Company&lt;/b&gt; ...</td>\n",
       "      <td>Shop Goodyear Tires in Topeka, KS :: Performan...</td>\n",
       "      <td>d</td>\n",
       "    </tr>\n",
       "    <tr>\n",
       "      <th>1</th>\n",
       "      <td>IBM</td>\n",
       "      <td>https://hbr.org/2004/12/leading-change-when-bu...</td>\n",
       "      <td>0.0</td>\n",
       "      <td>0.0</td>\n",
       "      <td>NaN</td>\n",
       "      <td>&lt;HTML class=\"\"&gt;\\n&lt;style type=\"text/css\"&gt;\\nA:be...</td>\n",
       "      <td>By the time Sam Palmisano took over as CEO in ...</td>\n",
       "      <td>Leading Change When Business Is Good</td>\n",
       "      <td>d</td>\n",
       "    </tr>\n",
       "    <tr>\n",
       "      <th>2</th>\n",
       "      <td>RosNeft</td>\n",
       "      <td>http://www.leonardocompany.com/en/-/accordo-ru...</td>\n",
       "      <td>0.0</td>\n",
       "      <td>1.0</td>\n",
       "      <td>NaN</td>\n",
       "      <td>&lt;HTML class=\"ltr\" dir=\"ltr\" lang=\"en-GB\"&gt;\\n&lt;st...</td>\n",
       "      <td>... Leonardo-Finmeccanica, Russian Helicopters...</td>\n",
       "      <td>New agreement for Leonardo-Finmeccanica's heli...</td>\n",
       "      <td>d</td>\n",
       "    </tr>\n",
       "    <tr>\n",
       "      <th>3</th>\n",
       "      <td>Amazon.com Inc.</td>\n",
       "      <td>https://sloanreview.mit.edu/article/digital-tr...</td>\n",
       "      <td>0.0</td>\n",
       "      <td>1.0</td>\n",
       "      <td>Neutral</td>\n",
       "      <td>&lt;HTML class=\"no-js mit-user \" lang=\"en-US\" pre...</td>\n",
       "      <td>... Digital Transformation Sustainability &lt;b&gt;C...</td>\n",
       "      <td>Digital Transformation on Purpose</td>\n",
       "      <td>d</td>\n",
       "    </tr>\n",
       "    <tr>\n",
       "      <th>4</th>\n",
       "      <td>ABB</td>\n",
       "      <td>http://microgridmedia.com/abb-indian-institute...</td>\n",
       "      <td>0.0</td>\n",
       "      <td>2.0</td>\n",
       "      <td>NaN</td>\n",
       "      <td>&lt;HTML lang=\"en-US\" prefix=\"og: http://ogp.me/n...</td>\n",
       "      <td>... Both India and multinational power enginee...</td>\n",
       "      <td>ABB, Indian Institute of Technology Microgrid ...</td>\n",
       "      <td>d</td>\n",
       "    </tr>\n",
       "    <tr>\n",
       "      <th>5</th>\n",
       "      <td>Toyota Motor Corp.</td>\n",
       "      <td>http://www.autonews.com/article/20180209/RETAI...</td>\n",
       "      <td>0.0</td>\n",
       "      <td>2.0</td>\n",
       "      <td>NaN</td>\n",
       "      <td>&lt;HTML lang=\"en-US\"&gt;\\n&lt;style type=\"text/css\"&gt;\\n...</td>\n",
       "      <td>... That is the motto that accompanies &lt;b&gt;Toyo...</td>\n",
       "      <td>Toyota launches ad campaign tied to 2018 Winte...</td>\n",
       "      <td>sport</td>\n",
       "    </tr>\n",
       "    <tr>\n",
       "      <th>6</th>\n",
       "      <td>Daimler AG</td>\n",
       "      <td>http://www.greencarcongress.com/2018/03/201803...</td>\n",
       "      <td>0.0</td>\n",
       "      <td>1.0</td>\n",
       "      <td>NaN</td>\n",
       "      <td>&lt;HTML&gt;\\n&lt;style type=\"text/css\"&gt;\\nA:before { co...</td>\n",
       "      <td>... The BMW Group and &lt;b&gt;Daimler AG&lt;/b&gt; have s...</td>\n",
       "      <td>BMW Group and Daimler AG agree to combine mobi...</td>\n",
       "      <td>d</td>\n",
       "    </tr>\n",
       "    <tr>\n",
       "      <th>7</th>\n",
       "      <td>EDS Corp.</td>\n",
       "      <td>https://www.nyserda.ny.gov/climaid</td>\n",
       "      <td>0.0</td>\n",
       "      <td>0.0</td>\n",
       "      <td>NaN</td>\n",
       "      <td>&lt;HTML lang=\"en\" xml:lang=\"en\" xmlns=\"http://ww...</td>\n",
       "      <td>Responding to &lt;b&gt;Climate Change&lt;/b&gt; in New Yor...</td>\n",
       "      <td>Responding Climate Change in New York State (C...</td>\n",
       "      <td>-</td>\n",
       "    </tr>\n",
       "    <tr>\n",
       "      <th>8</th>\n",
       "      <td>Bunge</td>\n",
       "      <td>https://www.nature.org/ourinitiatives/regions/...</td>\n",
       "      <td>0.0</td>\n",
       "      <td>1.0</td>\n",
       "      <td>NaN</td>\n",
       "      <td>&lt;HTML lang=\"en\"&gt;\\n&lt;style type=\"text/css\"&gt;\\nA:b...</td>\n",
       "      <td>In his post-banking business life, Peter was a...</td>\n",
       "      <td>Peter Wheeler Bio | The Nature Conservancy</td>\n",
       "      <td>done</td>\n",
       "    </tr>\n",
       "    <tr>\n",
       "      <th>9</th>\n",
       "      <td>Goodyear Tire &amp; Rubber Co</td>\n",
       "      <td>http://www.east-sideautomotive.com/tire-brands...</td>\n",
       "      <td>0.0</td>\n",
       "      <td>2.0</td>\n",
       "      <td>NaN</td>\n",
       "      <td>&lt;HTML lang=\"en-US\"&gt;\\n&lt;style type=\"text/css\"&gt;\\n...</td>\n",
       "      <td>The &lt;b&gt;Goodyear Tire &amp;amp; Rubber Company&lt;/b&gt; ...</td>\n",
       "      <td>Shop Goodyear Tires Stoughton, WI Edgerton, WI...</td>\n",
       "      <td>d</td>\n",
       "    </tr>\n",
       "  </tbody>\n",
       "</table>\n",
       "</div>"
      ],
      "text/plain": [
       "                     company  \\\n",
       "0  Goodyear Tire & Rubber Co   \n",
       "1                        IBM   \n",
       "2                    RosNeft   \n",
       "3            Amazon.com Inc.   \n",
       "4                        ABB   \n",
       "5         Toyota Motor Corp.   \n",
       "6                 Daimler AG   \n",
       "7                  EDS Corp.   \n",
       "8                      Bunge   \n",
       "9  Goodyear Tire & Rubber Co   \n",
       "\n",
       "                                                 url  climate_confidence  \\\n",
       "0  http://www.performancetopeka.com/shop-for-tire...                 0.0   \n",
       "1  https://hbr.org/2004/12/leading-change-when-bu...                 0.0   \n",
       "2  http://www.leonardocompany.com/en/-/accordo-ru...                 0.0   \n",
       "3  https://sloanreview.mit.edu/article/digital-tr...                 0.0   \n",
       "4  http://microgridmedia.com/abb-indian-institute...                 0.0   \n",
       "5  http://www.autonews.com/article/20180209/RETAI...                 0.0   \n",
       "6  http://www.greencarcongress.com/2018/03/201803...                 0.0   \n",
       "7                 https://www.nyserda.ny.gov/climaid                 0.0   \n",
       "8  https://www.nature.org/ourinitiatives/regions/...                 0.0   \n",
       "9  http://www.east-sideautomotive.com/tire-brands...                 0.0   \n",
       "\n",
       "   company_confidence sentiment  \\\n",
       "0                 2.0       NaN   \n",
       "1                 0.0       NaN   \n",
       "2                 1.0       NaN   \n",
       "3                 1.0   Neutral   \n",
       "4                 2.0       NaN   \n",
       "5                 2.0       NaN   \n",
       "6                 1.0       NaN   \n",
       "7                 0.0       NaN   \n",
       "8                 1.0       NaN   \n",
       "9                 2.0       NaN   \n",
       "\n",
       "                                             content  \\\n",
       "0  <HTML lang=\"en-US\">\\n<style type=\"text/css\">\\n...   \n",
       "1  <HTML class=\"\">\\n<style type=\"text/css\">\\nA:be...   \n",
       "2  <HTML class=\"ltr\" dir=\"ltr\" lang=\"en-GB\">\\n<st...   \n",
       "3  <HTML class=\"no-js mit-user \" lang=\"en-US\" pre...   \n",
       "4  <HTML lang=\"en-US\" prefix=\"og: http://ogp.me/n...   \n",
       "5  <HTML lang=\"en-US\">\\n<style type=\"text/css\">\\n...   \n",
       "6  <HTML>\\n<style type=\"text/css\">\\nA:before { co...   \n",
       "7  <HTML lang=\"en\" xml:lang=\"en\" xmlns=\"http://ww...   \n",
       "8  <HTML lang=\"en\">\\n<style type=\"text/css\">\\nA:b...   \n",
       "9  <HTML lang=\"en-US\">\\n<style type=\"text/css\">\\n...   \n",
       "\n",
       "                                             extract  \\\n",
       "0  The <b>Goodyear Tire &amp; Rubber Company</b> ...   \n",
       "1  By the time Sam Palmisano took over as CEO in ...   \n",
       "2  ... Leonardo-Finmeccanica, Russian Helicopters...   \n",
       "3  ... Digital Transformation Sustainability <b>C...   \n",
       "4  ... Both India and multinational power enginee...   \n",
       "5  ... That is the motto that accompanies <b>Toyo...   \n",
       "6  ... The BMW Group and <b>Daimler AG</b> have s...   \n",
       "7  Responding to <b>Climate Change</b> in New Yor...   \n",
       "8  In his post-banking business life, Peter was a...   \n",
       "9  The <b>Goodyear Tire &amp; Rubber Company</b> ...   \n",
       "\n",
       "                                               title comments  \n",
       "0  Shop Goodyear Tires in Topeka, KS :: Performan...        d  \n",
       "1               Leading Change When Business Is Good        d  \n",
       "2  New agreement for Leonardo-Finmeccanica's heli...        d  \n",
       "3                  Digital Transformation on Purpose        d  \n",
       "4  ABB, Indian Institute of Technology Microgrid ...        d  \n",
       "5  Toyota launches ad campaign tied to 2018 Winte...    sport  \n",
       "6  BMW Group and Daimler AG agree to combine mobi...        d  \n",
       "7  Responding Climate Change in New York State (C...        -  \n",
       "8         Peter Wheeler Bio | The Nature Conservancy     done  \n",
       "9  Shop Goodyear Tires Stoughton, WI Edgerton, WI...        d  "
      ]
     },
     "execution_count": 3,
     "metadata": {},
     "output_type": "execute_result"
    }
   ],
   "source": [
    "truth_df.head(10)"
   ]
  },
  {
   "cell_type": "code",
   "execution_count": 4,
   "metadata": {},
   "outputs": [],
   "source": [
    "import numpy as np\n",
    "df = pd.concat([pd.read_csv(batch) for batch in mturk_batches])\n",
    "# df = df[df['sentiment'].notnull()]\n",
    "\n",
    "df = df.dropna(subset = ['company_confidence'])\n",
    "truth_df = truth_df.dropna(subset = ['company_confidence'])\n",
    "# df = df[np.isfinite(df['sentiment'])]\n",
    "urls = df.groupby(\"url\", as_index=False)"
   ]
  },
  {
   "cell_type": "code",
   "execution_count": 5,
   "metadata": {},
   "outputs": [
    {
     "data": {
      "text/plain": [
       "444"
      ]
     },
     "execution_count": 5,
     "metadata": {},
     "output_type": "execute_result"
    }
   ],
   "source": [
    "# pd.options.display.max_colwidth = 10000\n",
    "# row = df.loc[df[''] == 'http://bellona.org/news/arctic/2017-04-trump-like-friend-of-putin-tells-him-climate-change-isnt-man-made']\n",
    "# row['']\n",
    "# df.columns\n",
    "len(df)"
   ]
  },
  {
   "cell_type": "code",
   "execution_count": 6,
   "metadata": {},
   "outputs": [],
   "source": [
    "columns = ['url', 'company', 'short_text', 'title', 'content', 'climate_confidence', 'company_confidence', 'sentiment']\n",
    "result_df = pd.DataFrame(columns=columns)\n",
    "# agree_level = []\n",
    "cf = []\n",
    "\n",
    "for num, url in enumerate(list(urls.groups.keys())):\n",
    "    results = df.loc[df['url'] == url]\n",
    "#     if 'w.ohio.com/akron/writers/katie-byard/goodyear-bridgestone-team-up-to-distribute-tires-nationallly-new-tirehub-will-be-one-of-the-largest-such-joint-ventures-in-the-country' in url:\n",
    "#         import ipdb; ipdb.set_trace()\n",
    "    key = results['extract'].keys()[0]\n",
    "    vals = [url, results['company'][key], results['extract'][key], results['title'][key], results['content'][key]]\n",
    "    for column_name in ['climate_confidence', 'company_confidence', 'sentiment']:\n",
    "        #agree level == 2\n",
    "\n",
    "        if any(truth_df['url'] == url) and truth_df.loc[truth_df['url'] == url][column_name].iloc[0] != np.nan:\n",
    "            vals.append(truth_df.loc[truth_df['url'] == url][column_name].iloc[0])\n",
    "#             if column_name =='company_confidence' and np.isnan(truth_df.loc[truth_df[''] == url][column_name].iloc[0]):\n",
    "#                 import ipdb; ipdb.set_trace()\n",
    "#                 cf.append(truth_df.loc[truth_df[''] == url][column_name].iloc[0])\n",
    "            continue\n",
    "        \n",
    "        counter = results[column_name].value_counts()\n",
    "        if len(counter) > 0:\n",
    "            highest = max(counter.values)\n",
    "            #         agree_level.append(\"{} of {}\".format(highest, sum(counter.values)))\n",
    "            res = [k for k, v in counter.items() if v == highest]\n",
    "            vals.append(res[0])\n",
    "            continue\n",
    "        vals.append(None)\n",
    "    result_df.loc[num] = vals\n",
    "# result_df['agree_level'] = agree_level"
   ]
  },
  {
   "cell_type": "code",
   "execution_count": 7,
   "metadata": {},
   "outputs": [
    {
     "data": {
      "text/plain": [
       "410"
      ]
     },
     "execution_count": 7,
     "metadata": {},
     "output_type": "execute_result"
    }
   ],
   "source": [
    "len(result_df)"
   ]
  },
  {
   "cell_type": "code",
   "execution_count": 8,
   "metadata": {},
   "outputs": [
    {
     "data": {
      "text/plain": [
       "array(['Apple Inc', 'RosNeft', 'Ford Motor Co.', 'GazProm', 'Petro China',\n",
       "       'BASF AG', 'Royal Dutch Shell PLC', 'BMW',\n",
       "       'Goodyear Tire & Rubber Co', 'Toyota Motor Corp.',\n",
       "       'Exxon Mobil Corp.', 'Cargill Inc', 'Ineos', 'EDS Corp.',\n",
       "       'General Motors Corp.', 'ABB', 'Nestle SA', 'Petrobras',\n",
       "       'Duke Energy', 'Continental AG', 'Sumitomo Rubber Industries',\n",
       "       'Dow Chemical', 'Amazon.com Inc.', 'Volkswagen AG', 'Daimler AG',\n",
       "       'AuFeminin.com', 'PepsiCo Inc.', 'Bridgestone Corp.', 'IBM',\n",
       "       'Bayer AG', 'Michelin', 'Johnson & Johnson', 'Chevron Corp.',\n",
       "       'BP plc', 'Microsoft Corp.', 'Bunge'], dtype=object)"
      ]
     },
     "execution_count": 8,
     "metadata": {},
     "output_type": "execute_result"
    }
   ],
   "source": [
    "result_df['company'].unique()\n",
    "\n",
    "# df.loc[result_df['Штзгею'] == result_df['company_confidence'].unique()[-1]]\n",
    "# dr"
   ]
  },
  {
   "cell_type": "code",
   "execution_count": 9,
   "metadata": {},
   "outputs": [],
   "source": [
    "result_df.to_csv(OUTPUT_FILEMANE, index=False)"
   ]
  },
  {
   "cell_type": "code",
   "execution_count": null,
   "metadata": {},
   "outputs": [],
   "source": []
  },
  {
   "cell_type": "code",
   "execution_count": null,
   "metadata": {},
   "outputs": [],
   "source": []
  }
 ],
 "metadata": {
  "kernelspec": {
   "display_name": "sentiment",
   "language": "python",
   "name": "sentiment"
  },
  "language_info": {
   "codemirror_mode": {
    "name": "ipython",
    "version": 3
   },
   "file_extension": ".py",
   "mimetype": "text/x-python",
   "name": "python",
   "nbconvert_exporter": "python",
   "pygments_lexer": "ipython3",
   "version": "3.6.4"
  }
 },
 "nbformat": 4,
 "nbformat_minor": 2
}
