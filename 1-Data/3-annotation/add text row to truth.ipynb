{
 "cells": [
  {
   "cell_type": "markdown",
   "metadata": {},
   "source": [
    "### This file collects extracted links texts and adds them up to file compiled_output.csv"
   ]
  },
  {
   "cell_type": "code",
   "execution_count": 1,
   "metadata": {},
   "outputs": [],
   "source": [
    "import pandas as pd\n",
    "from bs4 import BeautifulSoup\n",
    "import unicodedata\n",
    "import os\n",
    "import pandas as pd\n",
    "BATCHES_FOLDER = \"MTurkBatchesResults\"\n",
    "TEXT_FOLDER = \"../2-extract-text/extracted_texts\"\n",
    "OUTPUT_FILE = 'compiled_output.csv'"
   ]
  },
  {
   "cell_type": "code",
   "execution_count": 2,
   "metadata": {},
   "outputs": [],
   "source": [
    "# mturk_batches = [\"{}/{}\".format(BATCHES_FOLDER, fl) for fl in os.listdir(BATCHES_FOLDER) if fl.endswith(\".csv\")]\n",
    "# df = pd.concat([pd.read_csv(batch) for batch in mturk_batches])"
   ]
  },
  {
   "cell_type": "code",
   "execution_count": 3,
   "metadata": {},
   "outputs": [],
   "source": [
    "df = pd.read_csv(BATCHES_FOLDER+\"/truth.csv\")\n",
    "texts = [\"{}/{}\".format(TEXT_FOLDER, fl) for fl in os.listdir(TEXT_FOLDER) if fl.endswith(\".csv\")]\n",
    "dfs = []\n",
    "\n",
    "for t in texts:\n",
    "    try:\n",
    "        df1 = pd.read_csv(t)\n",
    "        df1 = df1[~df1['url'].isin(df['Input.url'])]\n",
    "        dfs.append(df1)\n",
    "    except Exception as ex:\n",
    "        print(ex)\n",
    "        print(\"Unable to read {}\".format(t))\n",
    "texts_df = pd.concat(dfs)\n",
    "# df.to_csv('truth.csv', index=False)"
   ]
  },
  {
   "cell_type": "code",
   "execution_count": 4,
   "metadata": {},
   "outputs": [],
   "source": [
    "texts_df.rename(columns=lambda x: 'Input.'+x, inplace=True)"
   ]
  },
  {
   "cell_type": "code",
   "execution_count": 5,
   "metadata": {},
   "outputs": [
    {
     "name": "stdout",
     "output_type": "stream",
     "text": [
      "Index(['Input.company', 'Input.url', 'Input.title', 'Input.extract',\n",
      "       'Input.content'],\n",
      "      dtype='object')\n"
     ]
    }
   ],
   "source": [
    "print(texts_df.columns)\n"
   ]
  },
  {
   "cell_type": "code",
   "execution_count": 6,
   "metadata": {},
   "outputs": [],
   "source": [
    "import numpy as np\n",
    "# df_cut = df[list(texts_df.columns)+[\"Answer.ClimateConfidence\", \"Answer.CompanyConfidence\", \"Answer.sentiment\"]]\n",
    "texts_df[\"Answer.ClimateConfidence\"] = np.nan\n",
    "texts_df[\"Answer.CompanyConfidence\"] = np.nan\n",
    "texts_df[\"Answer.sentiment\"] = np.nan\n",
    "df1 = pd.concat([texts_df, df])\n",
    "result = df1.sort_values([\"Answer.ClimateConfidence\"], ascending=[1])"
   ]
  },
  {
   "cell_type": "code",
   "execution_count": 7,
   "metadata": {},
   "outputs": [],
   "source": [
    "result.to_csv(OUTPUT_FILE, index=False)"
   ]
  },
  {
   "cell_type": "code",
   "execution_count": 8,
   "metadata": {},
   "outputs": [
    {
     "data": {
      "text/plain": [
       "3353"
      ]
     },
     "execution_count": 8,
     "metadata": {},
     "output_type": "execute_result"
    }
   ],
   "source": [
    "len(result)"
   ]
  },
  {
   "cell_type": "code",
   "execution_count": null,
   "metadata": {},
   "outputs": [],
   "source": []
  },
  {
   "cell_type": "code",
   "execution_count": null,
   "metadata": {},
   "outputs": [],
   "source": []
  }
 ],
 "metadata": {
  "kernelspec": {
   "display_name": "sentiment",
   "language": "python",
   "name": "sentiment"
  },
  "language_info": {
   "codemirror_mode": {
    "name": "ipython",
    "version": 3
   },
   "file_extension": ".py",
   "mimetype": "text/x-python",
   "name": "python",
   "nbconvert_exporter": "python",
   "pygments_lexer": "ipython3",
   "version": "3.6.4"
  }
 },
 "nbformat": 4,
 "nbformat_minor": 2
}
