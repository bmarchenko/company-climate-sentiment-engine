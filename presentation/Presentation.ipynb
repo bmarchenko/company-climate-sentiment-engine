{
 "cells": [
  {
   "cell_type": "markdown",
   "metadata": {
    "slideshow": {
     "slide_type": "slide"
    }
   },
   "source": [
    "# Sentiment Analysis of Articles about Climate Change\n",
    "\n",
    "___\n",
    "\n",
    "Climate change has started to have a profound economic impact. \n",
    "Consequently, investors are looking for new methods to assess the risk and opportunities that come with climate change and their investments. \n",
    "In this work we seek to understand how to create a short term signal that looks at Sentiment Analysis of Social Media generated articles.\n",
    "\n",
    "![title](pictures/design.jpg)\n"
   ]
  },
  {
   "cell_type": "markdown",
   "metadata": {
    "slideshow": {
     "slide_type": "slide"
    }
   },
   "source": [
    "## Inspired by Carbon Disclosure Project"
   ]
  },
  {
   "cell_type": "markdown",
   "metadata": {
    "slideshow": {
     "slide_type": "fragment"
    }
   },
   "source": [
    "![title](pictures/cdp3.jpg)"
   ]
  },
  {
   "cell_type": "markdown",
   "metadata": {
    "slideshow": {
     "slide_type": "slide"
    }
   },
   "source": [
    "## and CARBON DELTA Patent Project\n"
   ]
  },
  {
   "cell_type": "markdown",
   "metadata": {
    "slideshow": {
     "slide_type": "fragment"
    }
   },
   "source": [
    "### Company Score = Num. of Green Patents/Total Num. of Patents"
   ]
  },
  {
   "cell_type": "markdown",
   "metadata": {
    "slideshow": {
     "slide_type": "slide"
    }
   },
   "source": [
    "# Stage 1. Data Mining"
   ]
  },
  {
   "cell_type": "markdown",
   "metadata": {
    "slideshow": {
     "slide_type": "fragment"
    }
   },
   "source": [
    "### 1.1 Initial Sample:\n",
    "**9** Sectors of Economy \\* **5** Largest Companies + **Dirty Dozen Index** = **50** Companies"
   ]
  },
  {
   "cell_type": "markdown",
   "metadata": {
    "slideshow": {
     "slide_type": "fragment"
    }
   },
   "source": [
    "### 1.2 Fetch links from Google Search Engine\n",
    "**50** Companies \\* **100** Google Search Results = **5000** links "
   ]
  },
  {
   "cell_type": "markdown",
   "metadata": {
    "slideshow": {
     "slide_type": "fragment"
    }
   },
   "source": [
    "### 1.3 Extract texts and filter\n",
    "#### Exclude:\n",
    "1. Wrong formats: PDF, Video etc.\n",
    "2. Wrong sites: Company own websites, Social Media, Wikipedia, etc.\n",
    "3. Too short pages, front pages, broken pages\n",
    "\n",
    "\n",
    "#### Survival rate  = 60-70%\n"
   ]
  },
  {
   "cell_type": "markdown",
   "metadata": {
    "slideshow": {
     "slide_type": "slide"
    }
   },
   "source": [
    "# 2. Annotation"
   ]
  },
  {
   "cell_type": "markdown",
   "metadata": {
    "slideshow": {
     "slide_type": "fragment"
    }
   },
   "source": [
    "#### 2.1 MTurk\n",
    "![title](pictures/mTurk.jpg)"
   ]
  },
  {
   "cell_type": "markdown",
   "metadata": {
    "slideshow": {
     "slide_type": "fragment"
    }
   },
   "source": [
    "#### 2.2 Local English Teacher"
   ]
  },
  {
   "cell_type": "markdown",
   "metadata": {
    "slideshow": {
     "slide_type": "fragment"
    }
   },
   "source": [
    "#### Totally annotated ~400 texts"
   ]
  },
  {
   "cell_type": "markdown",
   "metadata": {
    "slideshow": {
     "slide_type": "slide"
    }
   },
   "source": [
    "# 3. Filter irrelevant texts\n",
    "#### 3.1 Fraction of Company mentions to other Organizations in text\n",
    "![title](pictures/company_confidence2.jpg)\n"
   ]
  },
  {
   "cell_type": "markdown",
   "metadata": {
    "slideshow": {
     "slide_type": "slide"
    }
   },
   "source": [
    "# 4. Baseline\n",
    "### MultinomialNB\n",
    "char threegrams\n",
    "![title](pictures/baseline2.jpg)\n"
   ]
  },
  {
   "cell_type": "markdown",
   "metadata": {
    "slideshow": {
     "slide_type": "slide"
    }
   },
   "source": [
    "# 5. Improvement\n",
    "\n",
    "1. Exclude Organizations\n",
    "2. Attempt to use only sentences where company mentioned\n",
    "3. Use 3 classes\n",
    "\n",
    "#### Other ideas:\n",
    "4. Paragraph level\n",
    "5. Work with negations\n",
    "6. Build Climate change lexicon\n",
    "7. Use Google extract and Title\n",
    "8. word ngrams\n"
   ]
  },
  {
   "cell_type": "markdown",
   "metadata": {
    "slideshow": {
     "slide_type": "slide"
    }
   },
   "source": [
    "### Results:\n",
    "![title](pictures/improvement.jpg)"
   ]
  },
  {
   "cell_type": "markdown",
   "metadata": {
    "slideshow": {
     "slide_type": "slide"
    }
   },
   "source": [
    "# 6. Neural Networks??\n",
    "~65 % accuracy RNN "
   ]
  },
  {
   "cell_type": "markdown",
   "metadata": {
    "slideshow": {
     "slide_type": "slide"
    }
   },
   "source": [
    "# 7. Results:"
   ]
  },
  {
   "cell_type": "code",
   "execution_count": null,
   "metadata": {},
   "outputs": [],
   "source": []
  }
 ],
 "metadata": {
  "celltoolbar": "Slideshow",
  "kernelspec": {
   "display_name": "sentiment",
   "language": "python",
   "name": "sentiment"
  },
  "language_info": {
   "codemirror_mode": {
    "name": "ipython",
    "version": 3
   },
   "file_extension": ".py",
   "mimetype": "text/x-python",
   "name": "python",
   "nbconvert_exporter": "python",
   "pygments_lexer": "ipython3",
   "version": "3.6.4"
  }
 },
 "nbformat": 4,
 "nbformat_minor": 2
}
